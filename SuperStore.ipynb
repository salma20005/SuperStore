{
 "cells": [
  {
   "metadata": {},
   "cell_type": "markdown",
   "source": "#  Super Store Project",
   "id": "55ed96d753bd99a6"
  },
  {
   "metadata": {},
   "cell_type": "markdown",
   "source": [
    "## Dataset Columns Explanation\n",
    "1. **Row ID**\n",
    "   A unique identifier for each row in the dataset. It helps distinguish records.\n",
    "\n",
    "2. **Order ID**\n",
    "   The unique identifier for each order. Multiple rows can share the same order ID if the order contains multiple products.\n",
    "\n",
    "3. **Order Date**\n",
    "   The date on which the customer placed the order.\n",
    "\n",
    "4. **Ship Date**\n",
    "   The date on which the order was shipped.\n",
    "\n",
    "5. **Ship Mode**\n",
    "   The shipping method chosen by the customer (e.g., Standard Class, Second Class, First Class, Same Day).\n",
    "\n",
    "6. **Customer ID**\n",
    "   A unique identifier assigned to each customer.\n",
    "\n",
    "7. **Customer Name**\n",
    "   The full name of the customer who placed the order.\n",
    "\n",
    "8. **Segment**\n",
    "   The type of customer segment (Consumer, Corporate, or Home Office).\n",
    "\n",
    "9. **Country**\n",
    "   The country of the customer (in this dataset, it is primarily \"United States\").\n",
    "\n",
    "10. **City**\n",
    "    The city where the customer is located.\n",
    "\n",
    "11. **State**\n",
    "    The state where the customer is located.\n",
    "\n",
    "12. **Postal Code**\n",
    "    The postal/ZIP code of the customer's location.\n",
    "\n",
    "13. **Region**\n",
    "    The geographical region of the order (West, East, Central, or South).\n",
    "\n",
    "14. **Product ID**\n",
    "    A unique identifier assigned to each product.\n",
    "\n",
    "15. **Category**\n",
    "    The main category of the product (Furniture, Office Supplies, Technology).\n",
    "\n",
    "16. **Sub-Category**\n",
    "    The sub-division of the product category (e.g., Chairs, Phones, Binders).\n",
    "\n",
    "17. **Product Name**\n",
    "    The detailed name/description of the product.\n",
    "\n",
    "18. **Sales**\n",
    "    The total sales value for the product in the given transaction (in USD).\n",
    "\n",
    "19. **Quantity**\n",
    "    The number of units of the product sold in the order.\n",
    "\n",
    "20. **Discount**\n",
    "    The discount applied to the product (expressed as a fraction, e.g., 0.20 = 20% discount).\n",
    "\n",
    "21. **Profit**\n",
    "    The profit gained (or loss if negative) from selling the product in the transaction.\n"
   ],
   "id": "9589a40b2703affc"
  },
  {
   "metadata": {},
   "cell_type": "markdown",
   "source": [
    "### Questions to be answered in the data set\n",
    "\n",
    "1- Which product categories and sub-categories contribute most to overall sales and profit?\n",
    "\n",
    "2- Which customer segments (Consumer, Corporate, Home Office) are the most profitable?\n",
    "(at both total and average profit per order)\n",
    "\n",
    "3- How does sales and profit vary across different regions (Central, West, East, South)?\n",
    "(Identify best and worst-performing regions)\n",
    "\n",
    "4- Which states and cities generate the highest profit, and which incur the largest losses?\n",
    "\n",
    "5- What is the relationship between discounts and profitability?\n",
    "\n",
    "6- Which shipping mode is most frequently used and which is most profitable?\n",
    "(Compare Standard, Second Class, First Class, Same Day)\n",
    "\n",
    "7- Which products are the top sellers (by sales volume) and which are the most profitable?\n",
    "(Identify “star products” and “loss leaders”)\n",
    "\n",
    "8- How has sales and profit trended over time (by year and month)?\n",
    "(Seasonal or yearly growth patterns)\n",
    "\n",
    "9- Which customer(s) bring the highest sales and profit to the company?\n",
    "(Pareto analysis (top 20% of customers contributing to ~80% of sales))\n",
    "\n",
    "10- How does order quantity affect profit margin?\n",
    "(Do large-quantity orders always translate into more profit?)\n",
    "\n",
    "11-  How does discount impact profitability across different categories and sub-categories?\n",
    "(Do some categories suffer more from discounts than others?)"
   ],
   "id": "13422839e8c75f4d"
  },
  {
   "metadata": {
    "ExecuteTime": {
     "end_time": "2025-09-21T10:44:03.104294Z",
     "start_time": "2025-09-21T10:44:02.987532Z"
    }
   },
   "cell_type": "code",
   "source": [
    "# import needed modules\n",
    "import pandas as pd\n",
    "import numpy as np\n",
    "import matplotlib.pyplot as plt\n",
    "import seaborn as sns\n",
    "\n",
    "import plotly.express as px"
   ],
   "id": "d8b58dfd4e196699",
   "outputs": [],
   "execution_count": 1
  },
  {
   "metadata": {
    "ExecuteTime": {
     "end_time": "2025-09-21T10:44:04.900572Z",
     "start_time": "2025-09-21T10:44:03.136949Z"
    }
   },
   "cell_type": "code",
   "source": [
    "# import data\n",
    "df = pd.read_csv('SuperStore.csv',encoding = 'utf-16')"
   ],
   "id": "c536552b8385aa9c",
   "outputs": [],
   "execution_count": 2
  },
  {
   "metadata": {
    "ExecuteTime": {
     "end_time": "2025-09-21T10:44:05.955466Z",
     "start_time": "2025-09-21T10:44:05.909288Z"
    }
   },
   "cell_type": "code",
   "source": "df.head()",
   "id": "62a32485cf285e7",
   "outputs": [
    {
     "data": {
      "text/plain": [
       "   Row ID        Order ID  Order Date   Ship Date       Ship Mode Customer ID  \\\n",
       "0       1  CA-2013-152156  09-11-2013  12-11-2013    Second Class    CG-12520   \n",
       "1       2  CA-2013-152156  09-11-2013  12-11-2013    Second Class    CG-12520   \n",
       "2       3  CA-2013-138688  13-06-2013  17-06-2013    Second Class    DV-13045   \n",
       "3       4  US-2012-108966  11-10-2012  18-10-2012  Standard Class    SO-20335   \n",
       "4       5  US-2012-108966  11-10-2012  18-10-2012  Standard Class    SO-20335   \n",
       "\n",
       "     Customer Name    Segment        Country             City  ...  \\\n",
       "0      Claire Gute   Consumer  United States        Henderson  ...   \n",
       "1      Claire Gute   Consumer  United States        Henderson  ...   \n",
       "2  Darrin Van Huff  Corporate  United States      Los Angeles  ...   \n",
       "3   Sean O'Donnell   Consumer  United States  Fort Lauderdale  ...   \n",
       "4   Sean O'Donnell   Consumer  United States  Fort Lauderdale  ...   \n",
       "\n",
       "  Postal Code  Region       Product ID         Category Sub-Category  \\\n",
       "0       42420   South  FUR-BO-10001798        Furniture    Bookcases   \n",
       "1       42420   South  FUR-CH-10000454        Furniture       Chairs   \n",
       "2       90036    West  OFF-LA-10000240  Office Supplies       Labels   \n",
       "3       33311   South  FUR-TA-10000577        Furniture       Tables   \n",
       "4       33311   South  OFF-ST-10000760  Office Supplies      Storage   \n",
       "\n",
       "                                        Product Name     Sales  Quantity  \\\n",
       "0                  Bush Somerset Collection Bookcase  261.9600         2   \n",
       "1  Hon Deluxe Fabric Upholstered Stacking Chairs,...  731.9400         3   \n",
       "2  Self-Adhesive Address Labels for Typewriters b...   14.6200         2   \n",
       "3      Bretford CR4500 Series Slim Rectangular Table  957.5775         5   \n",
       "4                     Eldon Fold 'N Roll Cart System   22.3680         2   \n",
       "\n",
       "   Discount    Profit  \n",
       "0      0.00   41.9136  \n",
       "1      0.00  219.5820  \n",
       "2      0.00    6.8714  \n",
       "3      0.45 -383.0310  \n",
       "4      0.20    2.5164  \n",
       "\n",
       "[5 rows x 21 columns]"
      ],
      "text/html": [
       "<div>\n",
       "<style scoped>\n",
       "    .dataframe tbody tr th:only-of-type {\n",
       "        vertical-align: middle;\n",
       "    }\n",
       "\n",
       "    .dataframe tbody tr th {\n",
       "        vertical-align: top;\n",
       "    }\n",
       "\n",
       "    .dataframe thead th {\n",
       "        text-align: right;\n",
       "    }\n",
       "</style>\n",
       "<table border=\"1\" class=\"dataframe\">\n",
       "  <thead>\n",
       "    <tr style=\"text-align: right;\">\n",
       "      <th></th>\n",
       "      <th>Row ID</th>\n",
       "      <th>Order ID</th>\n",
       "      <th>Order Date</th>\n",
       "      <th>Ship Date</th>\n",
       "      <th>Ship Mode</th>\n",
       "      <th>Customer ID</th>\n",
       "      <th>Customer Name</th>\n",
       "      <th>Segment</th>\n",
       "      <th>Country</th>\n",
       "      <th>City</th>\n",
       "      <th>...</th>\n",
       "      <th>Postal Code</th>\n",
       "      <th>Region</th>\n",
       "      <th>Product ID</th>\n",
       "      <th>Category</th>\n",
       "      <th>Sub-Category</th>\n",
       "      <th>Product Name</th>\n",
       "      <th>Sales</th>\n",
       "      <th>Quantity</th>\n",
       "      <th>Discount</th>\n",
       "      <th>Profit</th>\n",
       "    </tr>\n",
       "  </thead>\n",
       "  <tbody>\n",
       "    <tr>\n",
       "      <th>0</th>\n",
       "      <td>1</td>\n",
       "      <td>CA-2013-152156</td>\n",
       "      <td>09-11-2013</td>\n",
       "      <td>12-11-2013</td>\n",
       "      <td>Second Class</td>\n",
       "      <td>CG-12520</td>\n",
       "      <td>Claire Gute</td>\n",
       "      <td>Consumer</td>\n",
       "      <td>United States</td>\n",
       "      <td>Henderson</td>\n",
       "      <td>...</td>\n",
       "      <td>42420</td>\n",
       "      <td>South</td>\n",
       "      <td>FUR-BO-10001798</td>\n",
       "      <td>Furniture</td>\n",
       "      <td>Bookcases</td>\n",
       "      <td>Bush Somerset Collection Bookcase</td>\n",
       "      <td>261.9600</td>\n",
       "      <td>2</td>\n",
       "      <td>0.00</td>\n",
       "      <td>41.9136</td>\n",
       "    </tr>\n",
       "    <tr>\n",
       "      <th>1</th>\n",
       "      <td>2</td>\n",
       "      <td>CA-2013-152156</td>\n",
       "      <td>09-11-2013</td>\n",
       "      <td>12-11-2013</td>\n",
       "      <td>Second Class</td>\n",
       "      <td>CG-12520</td>\n",
       "      <td>Claire Gute</td>\n",
       "      <td>Consumer</td>\n",
       "      <td>United States</td>\n",
       "      <td>Henderson</td>\n",
       "      <td>...</td>\n",
       "      <td>42420</td>\n",
       "      <td>South</td>\n",
       "      <td>FUR-CH-10000454</td>\n",
       "      <td>Furniture</td>\n",
       "      <td>Chairs</td>\n",
       "      <td>Hon Deluxe Fabric Upholstered Stacking Chairs,...</td>\n",
       "      <td>731.9400</td>\n",
       "      <td>3</td>\n",
       "      <td>0.00</td>\n",
       "      <td>219.5820</td>\n",
       "    </tr>\n",
       "    <tr>\n",
       "      <th>2</th>\n",
       "      <td>3</td>\n",
       "      <td>CA-2013-138688</td>\n",
       "      <td>13-06-2013</td>\n",
       "      <td>17-06-2013</td>\n",
       "      <td>Second Class</td>\n",
       "      <td>DV-13045</td>\n",
       "      <td>Darrin Van Huff</td>\n",
       "      <td>Corporate</td>\n",
       "      <td>United States</td>\n",
       "      <td>Los Angeles</td>\n",
       "      <td>...</td>\n",
       "      <td>90036</td>\n",
       "      <td>West</td>\n",
       "      <td>OFF-LA-10000240</td>\n",
       "      <td>Office Supplies</td>\n",
       "      <td>Labels</td>\n",
       "      <td>Self-Adhesive Address Labels for Typewriters b...</td>\n",
       "      <td>14.6200</td>\n",
       "      <td>2</td>\n",
       "      <td>0.00</td>\n",
       "      <td>6.8714</td>\n",
       "    </tr>\n",
       "    <tr>\n",
       "      <th>3</th>\n",
       "      <td>4</td>\n",
       "      <td>US-2012-108966</td>\n",
       "      <td>11-10-2012</td>\n",
       "      <td>18-10-2012</td>\n",
       "      <td>Standard Class</td>\n",
       "      <td>SO-20335</td>\n",
       "      <td>Sean O'Donnell</td>\n",
       "      <td>Consumer</td>\n",
       "      <td>United States</td>\n",
       "      <td>Fort Lauderdale</td>\n",
       "      <td>...</td>\n",
       "      <td>33311</td>\n",
       "      <td>South</td>\n",
       "      <td>FUR-TA-10000577</td>\n",
       "      <td>Furniture</td>\n",
       "      <td>Tables</td>\n",
       "      <td>Bretford CR4500 Series Slim Rectangular Table</td>\n",
       "      <td>957.5775</td>\n",
       "      <td>5</td>\n",
       "      <td>0.45</td>\n",
       "      <td>-383.0310</td>\n",
       "    </tr>\n",
       "    <tr>\n",
       "      <th>4</th>\n",
       "      <td>5</td>\n",
       "      <td>US-2012-108966</td>\n",
       "      <td>11-10-2012</td>\n",
       "      <td>18-10-2012</td>\n",
       "      <td>Standard Class</td>\n",
       "      <td>SO-20335</td>\n",
       "      <td>Sean O'Donnell</td>\n",
       "      <td>Consumer</td>\n",
       "      <td>United States</td>\n",
       "      <td>Fort Lauderdale</td>\n",
       "      <td>...</td>\n",
       "      <td>33311</td>\n",
       "      <td>South</td>\n",
       "      <td>OFF-ST-10000760</td>\n",
       "      <td>Office Supplies</td>\n",
       "      <td>Storage</td>\n",
       "      <td>Eldon Fold 'N Roll Cart System</td>\n",
       "      <td>22.3680</td>\n",
       "      <td>2</td>\n",
       "      <td>0.20</td>\n",
       "      <td>2.5164</td>\n",
       "    </tr>\n",
       "  </tbody>\n",
       "</table>\n",
       "<p>5 rows × 21 columns</p>\n",
       "</div>"
      ]
     },
     "execution_count": 3,
     "metadata": {},
     "output_type": "execute_result"
    }
   ],
   "execution_count": 3
  },
  {
   "metadata": {
    "ExecuteTime": {
     "end_time": "2025-09-21T10:44:06.288614Z",
     "start_time": "2025-09-21T10:44:06.263806Z"
    }
   },
   "cell_type": "code",
   "source": [
    "# check Null values\n",
    "df.isnull().sum()"
   ],
   "id": "32985c5e4fff258",
   "outputs": [
    {
     "data": {
      "text/plain": [
       "Row ID           0\n",
       "Order ID         0\n",
       "Order Date       0\n",
       "Ship Date        0\n",
       "Ship Mode        0\n",
       "Customer ID      0\n",
       "Customer Name    0\n",
       "Segment          0\n",
       "Country          0\n",
       "City             0\n",
       "State            0\n",
       "Postal Code      0\n",
       "Region           0\n",
       "Product ID       0\n",
       "Category         0\n",
       "Sub-Category     0\n",
       "Product Name     0\n",
       "Sales            0\n",
       "Quantity         0\n",
       "Discount         0\n",
       "Profit           0\n",
       "dtype: int64"
      ]
     },
     "execution_count": 4,
     "metadata": {},
     "output_type": "execute_result"
    }
   ],
   "execution_count": 4
  },
  {
   "metadata": {},
   "cell_type": "markdown",
   "source": "##### no null values",
   "id": "4c8e9e8363767096"
  },
  {
   "metadata": {
    "ExecuteTime": {
     "end_time": "2025-09-21T10:44:06.998040Z",
     "start_time": "2025-09-21T10:44:06.955926Z"
    }
   },
   "cell_type": "code",
   "source": [
    "# check duplicates\n",
    "df.duplicated().sum()"
   ],
   "id": "9fb8872ed5babe69",
   "outputs": [
    {
     "data": {
      "text/plain": [
       "np.int64(0)"
      ]
     },
     "execution_count": 5,
     "metadata": {},
     "output_type": "execute_result"
    }
   ],
   "execution_count": 5
  },
  {
   "metadata": {},
   "cell_type": "markdown",
   "source": "##### we have no duplicates",
   "id": "50c6a40e166c6338"
  },
  {
   "metadata": {
    "ExecuteTime": {
     "end_time": "2025-09-21T10:44:07.529294Z",
     "start_time": "2025-09-21T10:44:07.516642Z"
    }
   },
   "cell_type": "code",
   "source": [
    "# check data types\n",
    "df.dtypes"
   ],
   "id": "3e0b6dfd3c90e24c",
   "outputs": [
    {
     "data": {
      "text/plain": [
       "Row ID             int64\n",
       "Order ID          object\n",
       "Order Date        object\n",
       "Ship Date         object\n",
       "Ship Mode         object\n",
       "Customer ID       object\n",
       "Customer Name     object\n",
       "Segment           object\n",
       "Country           object\n",
       "City              object\n",
       "State             object\n",
       "Postal Code        int64\n",
       "Region            object\n",
       "Product ID        object\n",
       "Category          object\n",
       "Sub-Category      object\n",
       "Product Name      object\n",
       "Sales            float64\n",
       "Quantity           int64\n",
       "Discount         float64\n",
       "Profit           float64\n",
       "dtype: object"
      ]
     },
     "execution_count": 6,
     "metadata": {},
     "output_type": "execute_result"
    }
   ],
   "execution_count": 6
  },
  {
   "metadata": {
    "ExecuteTime": {
     "end_time": "2025-09-21T10:44:07.810869Z",
     "start_time": "2025-09-21T10:44:07.804323Z"
    }
   },
   "cell_type": "code",
   "source": "df['Row ID'] = df['Row ID'].astype(int)",
   "id": "2999b5000237e3d3",
   "outputs": [],
   "execution_count": 7
  },
  {
   "metadata": {},
   "cell_type": "markdown",
   "source": "##### we need to change data type of dates",
   "id": "5e11a1bcf3f22acf"
  },
  {
   "metadata": {
    "ExecuteTime": {
     "end_time": "2025-09-21T10:44:08.137142Z",
     "start_time": "2025-09-21T10:44:08.092145Z"
    }
   },
   "cell_type": "code",
   "source": [
    "df['Order Date'] = pd.to_datetime(df['Order Date'],format='%d-%m-%Y')\n",
    "df['Ship Date'] = pd.to_datetime(df['Ship Date'],format='%d-%m-%Y')\n",
    "df['month']=df['Order Date'].dt.month\n",
    "df['year']=df['Order Date'].dt.year\n",
    "df['year_month']=df['Order Date'].dt.to_period('M')"
   ],
   "id": "64b09dc8f7a94021",
   "outputs": [],
   "execution_count": 8
  },
  {
   "metadata": {
    "ExecuteTime": {
     "end_time": "2025-09-21T10:44:08.397319Z",
     "start_time": "2025-09-21T10:44:08.384452Z"
    }
   },
   "cell_type": "code",
   "source": "df.dtypes",
   "id": "95c0c8abac24c5a8",
   "outputs": [
    {
     "data": {
      "text/plain": [
       "Row ID                    int64\n",
       "Order ID                 object\n",
       "Order Date       datetime64[ns]\n",
       "Ship Date        datetime64[ns]\n",
       "Ship Mode                object\n",
       "Customer ID              object\n",
       "Customer Name            object\n",
       "Segment                  object\n",
       "Country                  object\n",
       "City                     object\n",
       "State                    object\n",
       "Postal Code               int64\n",
       "Region                   object\n",
       "Product ID               object\n",
       "Category                 object\n",
       "Sub-Category             object\n",
       "Product Name             object\n",
       "Sales                   float64\n",
       "Quantity                  int64\n",
       "Discount                float64\n",
       "Profit                  float64\n",
       "month                     int32\n",
       "year                      int32\n",
       "year_month            period[M]\n",
       "dtype: object"
      ]
     },
     "execution_count": 9,
     "metadata": {},
     "output_type": "execute_result"
    }
   ],
   "execution_count": 9
  },
  {
   "metadata": {},
   "cell_type": "markdown",
   "source": [
    "### Feature Engineering\n",
    "\n",
    "- shipping Days: to know how much was taken to deliver orders\n",
    "- Order_Year & Order_Month to do some TimeLine analysis\n",
    "- COGS : cost of goods sold\n",
    "- Discount Amount : to know amount of discount exactly\n",
    "- Selling Price : to know price of each unit"
   ],
   "id": "9562d3e91f6d8ced"
  },
  {
   "metadata": {
    "ExecuteTime": {
     "end_time": "2025-09-21T10:44:08.615005Z",
     "start_time": "2025-09-21T10:44:08.607947Z"
    }
   },
   "cell_type": "code",
   "source": "df['Shipping Days'] = df['Ship Date'] - df['Order Date']",
   "id": "b77bf8b26fa418cf",
   "outputs": [],
   "execution_count": 10
  },
  {
   "metadata": {
    "ExecuteTime": {
     "end_time": "2025-09-21T10:44:08.959146Z",
     "start_time": "2025-09-21T10:44:08.923351Z"
    }
   },
   "cell_type": "code",
   "source": "df.head()",
   "id": "bf41962959817ce8",
   "outputs": [
    {
     "data": {
      "text/plain": [
       "   Row ID        Order ID Order Date  Ship Date       Ship Mode Customer ID  \\\n",
       "0       1  CA-2013-152156 2013-11-09 2013-11-12    Second Class    CG-12520   \n",
       "1       2  CA-2013-152156 2013-11-09 2013-11-12    Second Class    CG-12520   \n",
       "2       3  CA-2013-138688 2013-06-13 2013-06-17    Second Class    DV-13045   \n",
       "3       4  US-2012-108966 2012-10-11 2012-10-18  Standard Class    SO-20335   \n",
       "4       5  US-2012-108966 2012-10-11 2012-10-18  Standard Class    SO-20335   \n",
       "\n",
       "     Customer Name    Segment        Country             City  ...  \\\n",
       "0      Claire Gute   Consumer  United States        Henderson  ...   \n",
       "1      Claire Gute   Consumer  United States        Henderson  ...   \n",
       "2  Darrin Van Huff  Corporate  United States      Los Angeles  ...   \n",
       "3   Sean O'Donnell   Consumer  United States  Fort Lauderdale  ...   \n",
       "4   Sean O'Donnell   Consumer  United States  Fort Lauderdale  ...   \n",
       "\n",
       "  Sub-Category                                       Product Name     Sales  \\\n",
       "0    Bookcases                  Bush Somerset Collection Bookcase  261.9600   \n",
       "1       Chairs  Hon Deluxe Fabric Upholstered Stacking Chairs,...  731.9400   \n",
       "2       Labels  Self-Adhesive Address Labels for Typewriters b...   14.6200   \n",
       "3       Tables      Bretford CR4500 Series Slim Rectangular Table  957.5775   \n",
       "4      Storage                     Eldon Fold 'N Roll Cart System   22.3680   \n",
       "\n",
       "  Quantity Discount    Profit month  year  year_month  Shipping Days  \n",
       "0        2     0.00   41.9136    11  2013     2013-11         3 days  \n",
       "1        3     0.00  219.5820    11  2013     2013-11         3 days  \n",
       "2        2     0.00    6.8714     6  2013     2013-06         4 days  \n",
       "3        5     0.45 -383.0310    10  2012     2012-10         7 days  \n",
       "4        2     0.20    2.5164    10  2012     2012-10         7 days  \n",
       "\n",
       "[5 rows x 25 columns]"
      ],
      "text/html": [
       "<div>\n",
       "<style scoped>\n",
       "    .dataframe tbody tr th:only-of-type {\n",
       "        vertical-align: middle;\n",
       "    }\n",
       "\n",
       "    .dataframe tbody tr th {\n",
       "        vertical-align: top;\n",
       "    }\n",
       "\n",
       "    .dataframe thead th {\n",
       "        text-align: right;\n",
       "    }\n",
       "</style>\n",
       "<table border=\"1\" class=\"dataframe\">\n",
       "  <thead>\n",
       "    <tr style=\"text-align: right;\">\n",
       "      <th></th>\n",
       "      <th>Row ID</th>\n",
       "      <th>Order ID</th>\n",
       "      <th>Order Date</th>\n",
       "      <th>Ship Date</th>\n",
       "      <th>Ship Mode</th>\n",
       "      <th>Customer ID</th>\n",
       "      <th>Customer Name</th>\n",
       "      <th>Segment</th>\n",
       "      <th>Country</th>\n",
       "      <th>City</th>\n",
       "      <th>...</th>\n",
       "      <th>Sub-Category</th>\n",
       "      <th>Product Name</th>\n",
       "      <th>Sales</th>\n",
       "      <th>Quantity</th>\n",
       "      <th>Discount</th>\n",
       "      <th>Profit</th>\n",
       "      <th>month</th>\n",
       "      <th>year</th>\n",
       "      <th>year_month</th>\n",
       "      <th>Shipping Days</th>\n",
       "    </tr>\n",
       "  </thead>\n",
       "  <tbody>\n",
       "    <tr>\n",
       "      <th>0</th>\n",
       "      <td>1</td>\n",
       "      <td>CA-2013-152156</td>\n",
       "      <td>2013-11-09</td>\n",
       "      <td>2013-11-12</td>\n",
       "      <td>Second Class</td>\n",
       "      <td>CG-12520</td>\n",
       "      <td>Claire Gute</td>\n",
       "      <td>Consumer</td>\n",
       "      <td>United States</td>\n",
       "      <td>Henderson</td>\n",
       "      <td>...</td>\n",
       "      <td>Bookcases</td>\n",
       "      <td>Bush Somerset Collection Bookcase</td>\n",
       "      <td>261.9600</td>\n",
       "      <td>2</td>\n",
       "      <td>0.00</td>\n",
       "      <td>41.9136</td>\n",
       "      <td>11</td>\n",
       "      <td>2013</td>\n",
       "      <td>2013-11</td>\n",
       "      <td>3 days</td>\n",
       "    </tr>\n",
       "    <tr>\n",
       "      <th>1</th>\n",
       "      <td>2</td>\n",
       "      <td>CA-2013-152156</td>\n",
       "      <td>2013-11-09</td>\n",
       "      <td>2013-11-12</td>\n",
       "      <td>Second Class</td>\n",
       "      <td>CG-12520</td>\n",
       "      <td>Claire Gute</td>\n",
       "      <td>Consumer</td>\n",
       "      <td>United States</td>\n",
       "      <td>Henderson</td>\n",
       "      <td>...</td>\n",
       "      <td>Chairs</td>\n",
       "      <td>Hon Deluxe Fabric Upholstered Stacking Chairs,...</td>\n",
       "      <td>731.9400</td>\n",
       "      <td>3</td>\n",
       "      <td>0.00</td>\n",
       "      <td>219.5820</td>\n",
       "      <td>11</td>\n",
       "      <td>2013</td>\n",
       "      <td>2013-11</td>\n",
       "      <td>3 days</td>\n",
       "    </tr>\n",
       "    <tr>\n",
       "      <th>2</th>\n",
       "      <td>3</td>\n",
       "      <td>CA-2013-138688</td>\n",
       "      <td>2013-06-13</td>\n",
       "      <td>2013-06-17</td>\n",
       "      <td>Second Class</td>\n",
       "      <td>DV-13045</td>\n",
       "      <td>Darrin Van Huff</td>\n",
       "      <td>Corporate</td>\n",
       "      <td>United States</td>\n",
       "      <td>Los Angeles</td>\n",
       "      <td>...</td>\n",
       "      <td>Labels</td>\n",
       "      <td>Self-Adhesive Address Labels for Typewriters b...</td>\n",
       "      <td>14.6200</td>\n",
       "      <td>2</td>\n",
       "      <td>0.00</td>\n",
       "      <td>6.8714</td>\n",
       "      <td>6</td>\n",
       "      <td>2013</td>\n",
       "      <td>2013-06</td>\n",
       "      <td>4 days</td>\n",
       "    </tr>\n",
       "    <tr>\n",
       "      <th>3</th>\n",
       "      <td>4</td>\n",
       "      <td>US-2012-108966</td>\n",
       "      <td>2012-10-11</td>\n",
       "      <td>2012-10-18</td>\n",
       "      <td>Standard Class</td>\n",
       "      <td>SO-20335</td>\n",
       "      <td>Sean O'Donnell</td>\n",
       "      <td>Consumer</td>\n",
       "      <td>United States</td>\n",
       "      <td>Fort Lauderdale</td>\n",
       "      <td>...</td>\n",
       "      <td>Tables</td>\n",
       "      <td>Bretford CR4500 Series Slim Rectangular Table</td>\n",
       "      <td>957.5775</td>\n",
       "      <td>5</td>\n",
       "      <td>0.45</td>\n",
       "      <td>-383.0310</td>\n",
       "      <td>10</td>\n",
       "      <td>2012</td>\n",
       "      <td>2012-10</td>\n",
       "      <td>7 days</td>\n",
       "    </tr>\n",
       "    <tr>\n",
       "      <th>4</th>\n",
       "      <td>5</td>\n",
       "      <td>US-2012-108966</td>\n",
       "      <td>2012-10-11</td>\n",
       "      <td>2012-10-18</td>\n",
       "      <td>Standard Class</td>\n",
       "      <td>SO-20335</td>\n",
       "      <td>Sean O'Donnell</td>\n",
       "      <td>Consumer</td>\n",
       "      <td>United States</td>\n",
       "      <td>Fort Lauderdale</td>\n",
       "      <td>...</td>\n",
       "      <td>Storage</td>\n",
       "      <td>Eldon Fold 'N Roll Cart System</td>\n",
       "      <td>22.3680</td>\n",
       "      <td>2</td>\n",
       "      <td>0.20</td>\n",
       "      <td>2.5164</td>\n",
       "      <td>10</td>\n",
       "      <td>2012</td>\n",
       "      <td>2012-10</td>\n",
       "      <td>7 days</td>\n",
       "    </tr>\n",
       "  </tbody>\n",
       "</table>\n",
       "<p>5 rows × 25 columns</p>\n",
       "</div>"
      ]
     },
     "execution_count": 11,
     "metadata": {},
     "output_type": "execute_result"
    }
   ],
   "execution_count": 11
  },
  {
   "metadata": {
    "ExecuteTime": {
     "end_time": "2025-09-21T10:44:09.238191Z",
     "start_time": "2025-09-21T10:44:09.230095Z"
    }
   },
   "cell_type": "code",
   "source": "df['Discount Amount'] = df['Discount'] * df['Sales']",
   "id": "27560279fa429ef7",
   "outputs": [],
   "execution_count": 12
  },
  {
   "metadata": {
    "ExecuteTime": {
     "end_time": "2025-09-21T10:44:09.749581Z",
     "start_time": "2025-09-21T10:44:09.739371Z"
    }
   },
   "cell_type": "code",
   "source": [
    "df['COGS'] = df['Sales'] - (df['Discount Amount'] + df['Profit'])\n",
    "# calculates selling price for the each product\n",
    "df['selling_price']=(df['Sales'] / df['Quantity']).round(2)"
   ],
   "id": "db9db60d65d096e5",
   "outputs": [],
   "execution_count": 13
  },
  {
   "metadata": {
    "ExecuteTime": {
     "end_time": "2025-09-21T10:44:10.127374Z",
     "start_time": "2025-09-21T10:44:10.100931Z"
    }
   },
   "cell_type": "code",
   "source": "df.head()",
   "id": "643be72a5876c858",
   "outputs": [
    {
     "data": {
      "text/plain": [
       "   Row ID        Order ID Order Date  Ship Date       Ship Mode Customer ID  \\\n",
       "0       1  CA-2013-152156 2013-11-09 2013-11-12    Second Class    CG-12520   \n",
       "1       2  CA-2013-152156 2013-11-09 2013-11-12    Second Class    CG-12520   \n",
       "2       3  CA-2013-138688 2013-06-13 2013-06-17    Second Class    DV-13045   \n",
       "3       4  US-2012-108966 2012-10-11 2012-10-18  Standard Class    SO-20335   \n",
       "4       5  US-2012-108966 2012-10-11 2012-10-18  Standard Class    SO-20335   \n",
       "\n",
       "     Customer Name    Segment        Country             City  ... Quantity  \\\n",
       "0      Claire Gute   Consumer  United States        Henderson  ...        2   \n",
       "1      Claire Gute   Consumer  United States        Henderson  ...        3   \n",
       "2  Darrin Van Huff  Corporate  United States      Los Angeles  ...        2   \n",
       "3   Sean O'Donnell   Consumer  United States  Fort Lauderdale  ...        5   \n",
       "4   Sean O'Donnell   Consumer  United States  Fort Lauderdale  ...        2   \n",
       "\n",
       "   Discount    Profit month  year year_month Shipping Days  Discount Amount  \\\n",
       "0      0.00   41.9136    11  2013    2013-11        3 days         0.000000   \n",
       "1      0.00  219.5820    11  2013    2013-11        3 days         0.000000   \n",
       "2      0.00    6.8714     6  2013    2013-06        4 days         0.000000   \n",
       "3      0.45 -383.0310    10  2012    2012-10        7 days       430.909875   \n",
       "4      0.20    2.5164    10  2012    2012-10        7 days         4.473600   \n",
       "\n",
       "         COGS  selling_price  \n",
       "0  220.046400         130.98  \n",
       "1  512.358000         243.98  \n",
       "2    7.748600           7.31  \n",
       "3  909.698625         191.52  \n",
       "4   15.378000          11.18  \n",
       "\n",
       "[5 rows x 28 columns]"
      ],
      "text/html": [
       "<div>\n",
       "<style scoped>\n",
       "    .dataframe tbody tr th:only-of-type {\n",
       "        vertical-align: middle;\n",
       "    }\n",
       "\n",
       "    .dataframe tbody tr th {\n",
       "        vertical-align: top;\n",
       "    }\n",
       "\n",
       "    .dataframe thead th {\n",
       "        text-align: right;\n",
       "    }\n",
       "</style>\n",
       "<table border=\"1\" class=\"dataframe\">\n",
       "  <thead>\n",
       "    <tr style=\"text-align: right;\">\n",
       "      <th></th>\n",
       "      <th>Row ID</th>\n",
       "      <th>Order ID</th>\n",
       "      <th>Order Date</th>\n",
       "      <th>Ship Date</th>\n",
       "      <th>Ship Mode</th>\n",
       "      <th>Customer ID</th>\n",
       "      <th>Customer Name</th>\n",
       "      <th>Segment</th>\n",
       "      <th>Country</th>\n",
       "      <th>City</th>\n",
       "      <th>...</th>\n",
       "      <th>Quantity</th>\n",
       "      <th>Discount</th>\n",
       "      <th>Profit</th>\n",
       "      <th>month</th>\n",
       "      <th>year</th>\n",
       "      <th>year_month</th>\n",
       "      <th>Shipping Days</th>\n",
       "      <th>Discount Amount</th>\n",
       "      <th>COGS</th>\n",
       "      <th>selling_price</th>\n",
       "    </tr>\n",
       "  </thead>\n",
       "  <tbody>\n",
       "    <tr>\n",
       "      <th>0</th>\n",
       "      <td>1</td>\n",
       "      <td>CA-2013-152156</td>\n",
       "      <td>2013-11-09</td>\n",
       "      <td>2013-11-12</td>\n",
       "      <td>Second Class</td>\n",
       "      <td>CG-12520</td>\n",
       "      <td>Claire Gute</td>\n",
       "      <td>Consumer</td>\n",
       "      <td>United States</td>\n",
       "      <td>Henderson</td>\n",
       "      <td>...</td>\n",
       "      <td>2</td>\n",
       "      <td>0.00</td>\n",
       "      <td>41.9136</td>\n",
       "      <td>11</td>\n",
       "      <td>2013</td>\n",
       "      <td>2013-11</td>\n",
       "      <td>3 days</td>\n",
       "      <td>0.000000</td>\n",
       "      <td>220.046400</td>\n",
       "      <td>130.98</td>\n",
       "    </tr>\n",
       "    <tr>\n",
       "      <th>1</th>\n",
       "      <td>2</td>\n",
       "      <td>CA-2013-152156</td>\n",
       "      <td>2013-11-09</td>\n",
       "      <td>2013-11-12</td>\n",
       "      <td>Second Class</td>\n",
       "      <td>CG-12520</td>\n",
       "      <td>Claire Gute</td>\n",
       "      <td>Consumer</td>\n",
       "      <td>United States</td>\n",
       "      <td>Henderson</td>\n",
       "      <td>...</td>\n",
       "      <td>3</td>\n",
       "      <td>0.00</td>\n",
       "      <td>219.5820</td>\n",
       "      <td>11</td>\n",
       "      <td>2013</td>\n",
       "      <td>2013-11</td>\n",
       "      <td>3 days</td>\n",
       "      <td>0.000000</td>\n",
       "      <td>512.358000</td>\n",
       "      <td>243.98</td>\n",
       "    </tr>\n",
       "    <tr>\n",
       "      <th>2</th>\n",
       "      <td>3</td>\n",
       "      <td>CA-2013-138688</td>\n",
       "      <td>2013-06-13</td>\n",
       "      <td>2013-06-17</td>\n",
       "      <td>Second Class</td>\n",
       "      <td>DV-13045</td>\n",
       "      <td>Darrin Van Huff</td>\n",
       "      <td>Corporate</td>\n",
       "      <td>United States</td>\n",
       "      <td>Los Angeles</td>\n",
       "      <td>...</td>\n",
       "      <td>2</td>\n",
       "      <td>0.00</td>\n",
       "      <td>6.8714</td>\n",
       "      <td>6</td>\n",
       "      <td>2013</td>\n",
       "      <td>2013-06</td>\n",
       "      <td>4 days</td>\n",
       "      <td>0.000000</td>\n",
       "      <td>7.748600</td>\n",
       "      <td>7.31</td>\n",
       "    </tr>\n",
       "    <tr>\n",
       "      <th>3</th>\n",
       "      <td>4</td>\n",
       "      <td>US-2012-108966</td>\n",
       "      <td>2012-10-11</td>\n",
       "      <td>2012-10-18</td>\n",
       "      <td>Standard Class</td>\n",
       "      <td>SO-20335</td>\n",
       "      <td>Sean O'Donnell</td>\n",
       "      <td>Consumer</td>\n",
       "      <td>United States</td>\n",
       "      <td>Fort Lauderdale</td>\n",
       "      <td>...</td>\n",
       "      <td>5</td>\n",
       "      <td>0.45</td>\n",
       "      <td>-383.0310</td>\n",
       "      <td>10</td>\n",
       "      <td>2012</td>\n",
       "      <td>2012-10</td>\n",
       "      <td>7 days</td>\n",
       "      <td>430.909875</td>\n",
       "      <td>909.698625</td>\n",
       "      <td>191.52</td>\n",
       "    </tr>\n",
       "    <tr>\n",
       "      <th>4</th>\n",
       "      <td>5</td>\n",
       "      <td>US-2012-108966</td>\n",
       "      <td>2012-10-11</td>\n",
       "      <td>2012-10-18</td>\n",
       "      <td>Standard Class</td>\n",
       "      <td>SO-20335</td>\n",
       "      <td>Sean O'Donnell</td>\n",
       "      <td>Consumer</td>\n",
       "      <td>United States</td>\n",
       "      <td>Fort Lauderdale</td>\n",
       "      <td>...</td>\n",
       "      <td>2</td>\n",
       "      <td>0.20</td>\n",
       "      <td>2.5164</td>\n",
       "      <td>10</td>\n",
       "      <td>2012</td>\n",
       "      <td>2012-10</td>\n",
       "      <td>7 days</td>\n",
       "      <td>4.473600</td>\n",
       "      <td>15.378000</td>\n",
       "      <td>11.18</td>\n",
       "    </tr>\n",
       "  </tbody>\n",
       "</table>\n",
       "<p>5 rows × 28 columns</p>\n",
       "</div>"
      ]
     },
     "execution_count": 14,
     "metadata": {},
     "output_type": "execute_result"
    }
   ],
   "execution_count": 14
  },
  {
   "metadata": {},
   "cell_type": "markdown",
   "source": "##### Q1: Which product categories and sub-categories contribute most to overall sales and profit?",
   "id": "6cd0e3ca7bb47ea3"
  },
  {
   "metadata": {
    "ExecuteTime": {
     "end_time": "2025-09-21T10:44:10.318469Z",
     "start_time": "2025-09-21T10:44:10.292347Z"
    }
   },
   "cell_type": "code",
   "source": "df.groupby([\"Category\",'Sub-Category'])['Sales'].sum().reset_index().sort_values(\"Sales\", ascending=False)",
   "id": "3a628c478f9bcfd3",
   "outputs": [
    {
     "data": {
      "text/plain": [
       "           Category Sub-Category        Sales\n",
       "16       Technology       Phones  330007.0540\n",
       "1         Furniture       Chairs  328449.1030\n",
       "11  Office Supplies      Storage  223843.6080\n",
       "3         Furniture       Tables  206965.5320\n",
       "6   Office Supplies      Binders  203412.7330\n",
       "15       Technology     Machines  189238.6310\n",
       "13       Technology  Accessories  167380.3180\n",
       "14       Technology      Copiers  149528.0300\n",
       "0         Furniture    Bookcases  114879.9963\n",
       "4   Office Supplies   Appliances  107532.1610\n",
       "2         Furniture  Furnishings   91705.1640\n",
       "10  Office Supplies        Paper   78479.2060\n",
       "12  Office Supplies     Supplies   46673.5380\n",
       "5   Office Supplies          Art   27118.7920\n",
       "7   Office Supplies    Envelopes   16476.4020\n",
       "9   Office Supplies       Labels   12486.3120\n",
       "8   Office Supplies    Fasteners    3024.2800"
      ],
      "text/html": [
       "<div>\n",
       "<style scoped>\n",
       "    .dataframe tbody tr th:only-of-type {\n",
       "        vertical-align: middle;\n",
       "    }\n",
       "\n",
       "    .dataframe tbody tr th {\n",
       "        vertical-align: top;\n",
       "    }\n",
       "\n",
       "    .dataframe thead th {\n",
       "        text-align: right;\n",
       "    }\n",
       "</style>\n",
       "<table border=\"1\" class=\"dataframe\">\n",
       "  <thead>\n",
       "    <tr style=\"text-align: right;\">\n",
       "      <th></th>\n",
       "      <th>Category</th>\n",
       "      <th>Sub-Category</th>\n",
       "      <th>Sales</th>\n",
       "    </tr>\n",
       "  </thead>\n",
       "  <tbody>\n",
       "    <tr>\n",
       "      <th>16</th>\n",
       "      <td>Technology</td>\n",
       "      <td>Phones</td>\n",
       "      <td>330007.0540</td>\n",
       "    </tr>\n",
       "    <tr>\n",
       "      <th>1</th>\n",
       "      <td>Furniture</td>\n",
       "      <td>Chairs</td>\n",
       "      <td>328449.1030</td>\n",
       "    </tr>\n",
       "    <tr>\n",
       "      <th>11</th>\n",
       "      <td>Office Supplies</td>\n",
       "      <td>Storage</td>\n",
       "      <td>223843.6080</td>\n",
       "    </tr>\n",
       "    <tr>\n",
       "      <th>3</th>\n",
       "      <td>Furniture</td>\n",
       "      <td>Tables</td>\n",
       "      <td>206965.5320</td>\n",
       "    </tr>\n",
       "    <tr>\n",
       "      <th>6</th>\n",
       "      <td>Office Supplies</td>\n",
       "      <td>Binders</td>\n",
       "      <td>203412.7330</td>\n",
       "    </tr>\n",
       "    <tr>\n",
       "      <th>15</th>\n",
       "      <td>Technology</td>\n",
       "      <td>Machines</td>\n",
       "      <td>189238.6310</td>\n",
       "    </tr>\n",
       "    <tr>\n",
       "      <th>13</th>\n",
       "      <td>Technology</td>\n",
       "      <td>Accessories</td>\n",
       "      <td>167380.3180</td>\n",
       "    </tr>\n",
       "    <tr>\n",
       "      <th>14</th>\n",
       "      <td>Technology</td>\n",
       "      <td>Copiers</td>\n",
       "      <td>149528.0300</td>\n",
       "    </tr>\n",
       "    <tr>\n",
       "      <th>0</th>\n",
       "      <td>Furniture</td>\n",
       "      <td>Bookcases</td>\n",
       "      <td>114879.9963</td>\n",
       "    </tr>\n",
       "    <tr>\n",
       "      <th>4</th>\n",
       "      <td>Office Supplies</td>\n",
       "      <td>Appliances</td>\n",
       "      <td>107532.1610</td>\n",
       "    </tr>\n",
       "    <tr>\n",
       "      <th>2</th>\n",
       "      <td>Furniture</td>\n",
       "      <td>Furnishings</td>\n",
       "      <td>91705.1640</td>\n",
       "    </tr>\n",
       "    <tr>\n",
       "      <th>10</th>\n",
       "      <td>Office Supplies</td>\n",
       "      <td>Paper</td>\n",
       "      <td>78479.2060</td>\n",
       "    </tr>\n",
       "    <tr>\n",
       "      <th>12</th>\n",
       "      <td>Office Supplies</td>\n",
       "      <td>Supplies</td>\n",
       "      <td>46673.5380</td>\n",
       "    </tr>\n",
       "    <tr>\n",
       "      <th>5</th>\n",
       "      <td>Office Supplies</td>\n",
       "      <td>Art</td>\n",
       "      <td>27118.7920</td>\n",
       "    </tr>\n",
       "    <tr>\n",
       "      <th>7</th>\n",
       "      <td>Office Supplies</td>\n",
       "      <td>Envelopes</td>\n",
       "      <td>16476.4020</td>\n",
       "    </tr>\n",
       "    <tr>\n",
       "      <th>9</th>\n",
       "      <td>Office Supplies</td>\n",
       "      <td>Labels</td>\n",
       "      <td>12486.3120</td>\n",
       "    </tr>\n",
       "    <tr>\n",
       "      <th>8</th>\n",
       "      <td>Office Supplies</td>\n",
       "      <td>Fasteners</td>\n",
       "      <td>3024.2800</td>\n",
       "    </tr>\n",
       "  </tbody>\n",
       "</table>\n",
       "</div>"
      ]
     },
     "execution_count": 15,
     "metadata": {},
     "output_type": "execute_result"
    }
   ],
   "execution_count": 15
  },
  {
   "metadata": {
    "ExecuteTime": {
     "end_time": "2025-09-21T10:44:10.745083Z",
     "start_time": "2025-09-21T10:44:10.726057Z"
    }
   },
   "cell_type": "code",
   "source": "df.groupby([\"Category\",'Sub-Category'])['Profit'].sum().reset_index().sort_values(\"Profit\", ascending=False)",
   "id": "587095a6fa0ce0bb",
   "outputs": [
    {
     "data": {
      "text/plain": [
       "           Category Sub-Category      Profit\n",
       "14       Technology      Copiers  55617.8249\n",
       "16       Technology       Phones  44515.7306\n",
       "13       Technology  Accessories  41936.6357\n",
       "10  Office Supplies        Paper  34053.5693\n",
       "6   Office Supplies      Binders  30221.7633\n",
       "1         Furniture       Chairs  26590.1663\n",
       "11  Office Supplies      Storage  21278.8264\n",
       "4   Office Supplies   Appliances  18138.0054\n",
       "2         Furniture  Furnishings  13059.1436\n",
       "7   Office Supplies    Envelopes   6964.1767\n",
       "5   Office Supplies          Art   6527.7870\n",
       "9   Office Supplies       Labels   5546.2540\n",
       "15       Technology     Machines   3384.7569\n",
       "8   Office Supplies    Fasteners    949.5182\n",
       "12  Office Supplies     Supplies  -1189.0995\n",
       "0         Furniture    Bookcases  -3472.5560\n",
       "3         Furniture       Tables -17725.4811"
      ],
      "text/html": [
       "<div>\n",
       "<style scoped>\n",
       "    .dataframe tbody tr th:only-of-type {\n",
       "        vertical-align: middle;\n",
       "    }\n",
       "\n",
       "    .dataframe tbody tr th {\n",
       "        vertical-align: top;\n",
       "    }\n",
       "\n",
       "    .dataframe thead th {\n",
       "        text-align: right;\n",
       "    }\n",
       "</style>\n",
       "<table border=\"1\" class=\"dataframe\">\n",
       "  <thead>\n",
       "    <tr style=\"text-align: right;\">\n",
       "      <th></th>\n",
       "      <th>Category</th>\n",
       "      <th>Sub-Category</th>\n",
       "      <th>Profit</th>\n",
       "    </tr>\n",
       "  </thead>\n",
       "  <tbody>\n",
       "    <tr>\n",
       "      <th>14</th>\n",
       "      <td>Technology</td>\n",
       "      <td>Copiers</td>\n",
       "      <td>55617.8249</td>\n",
       "    </tr>\n",
       "    <tr>\n",
       "      <th>16</th>\n",
       "      <td>Technology</td>\n",
       "      <td>Phones</td>\n",
       "      <td>44515.7306</td>\n",
       "    </tr>\n",
       "    <tr>\n",
       "      <th>13</th>\n",
       "      <td>Technology</td>\n",
       "      <td>Accessories</td>\n",
       "      <td>41936.6357</td>\n",
       "    </tr>\n",
       "    <tr>\n",
       "      <th>10</th>\n",
       "      <td>Office Supplies</td>\n",
       "      <td>Paper</td>\n",
       "      <td>34053.5693</td>\n",
       "    </tr>\n",
       "    <tr>\n",
       "      <th>6</th>\n",
       "      <td>Office Supplies</td>\n",
       "      <td>Binders</td>\n",
       "      <td>30221.7633</td>\n",
       "    </tr>\n",
       "    <tr>\n",
       "      <th>1</th>\n",
       "      <td>Furniture</td>\n",
       "      <td>Chairs</td>\n",
       "      <td>26590.1663</td>\n",
       "    </tr>\n",
       "    <tr>\n",
       "      <th>11</th>\n",
       "      <td>Office Supplies</td>\n",
       "      <td>Storage</td>\n",
       "      <td>21278.8264</td>\n",
       "    </tr>\n",
       "    <tr>\n",
       "      <th>4</th>\n",
       "      <td>Office Supplies</td>\n",
       "      <td>Appliances</td>\n",
       "      <td>18138.0054</td>\n",
       "    </tr>\n",
       "    <tr>\n",
       "      <th>2</th>\n",
       "      <td>Furniture</td>\n",
       "      <td>Furnishings</td>\n",
       "      <td>13059.1436</td>\n",
       "    </tr>\n",
       "    <tr>\n",
       "      <th>7</th>\n",
       "      <td>Office Supplies</td>\n",
       "      <td>Envelopes</td>\n",
       "      <td>6964.1767</td>\n",
       "    </tr>\n",
       "    <tr>\n",
       "      <th>5</th>\n",
       "      <td>Office Supplies</td>\n",
       "      <td>Art</td>\n",
       "      <td>6527.7870</td>\n",
       "    </tr>\n",
       "    <tr>\n",
       "      <th>9</th>\n",
       "      <td>Office Supplies</td>\n",
       "      <td>Labels</td>\n",
       "      <td>5546.2540</td>\n",
       "    </tr>\n",
       "    <tr>\n",
       "      <th>15</th>\n",
       "      <td>Technology</td>\n",
       "      <td>Machines</td>\n",
       "      <td>3384.7569</td>\n",
       "    </tr>\n",
       "    <tr>\n",
       "      <th>8</th>\n",
       "      <td>Office Supplies</td>\n",
       "      <td>Fasteners</td>\n",
       "      <td>949.5182</td>\n",
       "    </tr>\n",
       "    <tr>\n",
       "      <th>12</th>\n",
       "      <td>Office Supplies</td>\n",
       "      <td>Supplies</td>\n",
       "      <td>-1189.0995</td>\n",
       "    </tr>\n",
       "    <tr>\n",
       "      <th>0</th>\n",
       "      <td>Furniture</td>\n",
       "      <td>Bookcases</td>\n",
       "      <td>-3472.5560</td>\n",
       "    </tr>\n",
       "    <tr>\n",
       "      <th>3</th>\n",
       "      <td>Furniture</td>\n",
       "      <td>Tables</td>\n",
       "      <td>-17725.4811</td>\n",
       "    </tr>\n",
       "  </tbody>\n",
       "</table>\n",
       "</div>"
      ]
     },
     "execution_count": 16,
     "metadata": {},
     "output_type": "execute_result"
    }
   ],
   "execution_count": 16
  },
  {
   "metadata": {
    "ExecuteTime": {
     "end_time": "2025-09-21T10:44:11.232638Z",
     "start_time": "2025-09-21T10:44:11.221145Z"
    }
   },
   "cell_type": "code",
   "source": "cat_profit = df.groupby([\"Category\",'Sub-Category'])['Profit'].sum().reset_index().sort_values(\"Profit\", ascending=False)",
   "id": "63aa0f1cf96a2cb8",
   "outputs": [],
   "execution_count": 17
  },
  {
   "metadata": {
    "ExecuteTime": {
     "end_time": "2025-09-21T10:44:11.592058Z",
     "start_time": "2025-09-21T10:44:11.581559Z"
    }
   },
   "cell_type": "code",
   "source": "cat_sales =df.groupby([\"Category\",'Sub-Category'])['Sales'].sum().reset_index().sort_values(\"Sales\", ascending=False)",
   "id": "3fd1c48d01009668",
   "outputs": [],
   "execution_count": 18
  },
  {
   "metadata": {
    "ExecuteTime": {
     "end_time": "2025-09-21T10:44:13.077336Z",
     "start_time": "2025-09-21T10:44:11.800128Z"
    }
   },
   "cell_type": "code",
   "source": [
    "fig,axes = plt.subplots(1,2,figsize=(20,9))\n",
    "sns.barplot(x=\"Category\",y=\"Sales\",data=cat_sales,ax=axes[0],hue=\"Sub-Category\")\n",
    "axes[0].set_title(\"Sales Per Sub-Category\")\n",
    "sns.barplot(x=\"Category\",y=\"Profit\",data=cat_profit,ax=axes[1],hue=\"Sub-Category\")\n",
    "axes[1].set_title(\"Profit Per Sub-Category\")\n",
    "plt.tight_layout()\n",
    "plt.show()"
   ],
   "id": "caba0e326623ee4d",
   "outputs": [
    {
     "data": {
      "text/plain": [
       "<Figure size 2000x900 with 2 Axes>"
      ],
      "image/png": "[encoded data removed]"
     },
     "metadata": {},
     "output_type": "display_data"
    }
   ],
   "execution_count": 19
  },
  {
   "metadata": {},
   "cell_type": "markdown",
   "source": "##### (Category Furniture and sub_category Chairs) and (Category Technology and sub_category) Phones has highest Sales , Category Technology and sub_Category Copiers has highest Profit",
   "id": "96c403002a17d942"
  },
  {
   "metadata": {},
   "cell_type": "markdown",
   "source": [
    "##### Q2: Which customer segments (Consumer, Corporate, Home Office) are the most profitable?\n",
    "(at both total and average profit per order)"
   ],
   "id": "b3766a636137f470"
  },
  {
   "metadata": {
    "ExecuteTime": {
     "end_time": "2025-09-21T10:44:13.135413Z",
     "start_time": "2025-09-21T10:44:13.124180Z"
    }
   },
   "cell_type": "code",
   "source": "Segment_total =df.groupby(\"Segment\")['Profit'].sum().reset_index().sort_values(\"Profit\", ascending=False)",
   "id": "56b038b9b510bcd5",
   "outputs": [],
   "execution_count": 20
  },
  {
   "metadata": {
    "ExecuteTime": {
     "end_time": "2025-09-21T10:44:13.231481Z",
     "start_time": "2025-09-21T10:44:13.219825Z"
    }
   },
   "cell_type": "code",
   "source": "Segment_average =df.groupby(\"Segment\")['Profit'].mean().reset_index().sort_values(\"Profit\", ascending=False)",
   "id": "99a2511fe4ea987",
   "outputs": [],
   "execution_count": 21
  },
  {
   "metadata": {
    "ExecuteTime": {
     "end_time": "2025-09-21T10:44:13.984750Z",
     "start_time": "2025-09-21T10:44:13.327213Z"
    }
   },
   "cell_type": "code",
   "source": [
    "fig,axes = plt.subplots(1,2,figsize=(20,9))\n",
    "sns.barplot(x=\"Segment\",y=\"Profit\",data=Segment_total,ax=axes[0])\n",
    "axes[0].set_title(\"Total Profit per segment\")\n",
    "sns.barplot(x=\"Segment\",y=\"Profit\",data=Segment_average,ax=axes[1])\n",
    "axes[1].set_title(\"Average Profit per segment\")\n",
    "plt.tight_layout()\n",
    "plt.show()"
   ],
   "id": "df637de0c5e82de6",
   "outputs": [
    {
     "data": {
      "text/plain": [
       "<Figure size 2000x900 with 2 Axes>"
      ],
      "image/png": "[encoded data removed]"
     },
     "metadata": {},
     "output_type": "display_data"
    }
   ],
   "execution_count": 22
  },
  {
   "metadata": {},
   "cell_type": "markdown",
   "source": "##### Consumer has highest total profit , Home Office has highest Average profit",
   "id": "a51903a9b93718fd"
  },
  {
   "metadata": {},
   "cell_type": "markdown",
   "source": [
    "##### Q3: How does sales and profit vary across different regions (Central, West, East, South)?\n",
    "(Identify best and worst-performing regions)\n"
   ],
   "id": "368ee5444ebb809f"
  },
  {
   "metadata": {
    "ExecuteTime": {
     "end_time": "2025-09-21T10:44:14.065288Z",
     "start_time": "2025-09-21T10:44:14.055809Z"
    }
   },
   "cell_type": "code",
   "source": "Region_profit = df.groupby(\"Region\")['Profit'].sum().reset_index().sort_values(\"Profit\", ascending=False)",
   "id": "f09df7c6099c8b4d",
   "outputs": [],
   "execution_count": 23
  },
  {
   "metadata": {
    "ExecuteTime": {
     "end_time": "2025-09-21T10:44:14.158388Z",
     "start_time": "2025-09-21T10:44:14.144281Z"
    }
   },
   "cell_type": "code",
   "source": "Region_sales = df.groupby(\"Region\")['Sales'].sum().reset_index().sort_values(\"Sales\", ascending = False)",
   "id": "41176389baf4356f",
   "outputs": [],
   "execution_count": 24
  },
  {
   "metadata": {
    "ExecuteTime": {
     "end_time": "2025-09-21T10:44:14.384935Z",
     "start_time": "2025-09-21T10:44:14.269908Z"
    }
   },
   "cell_type": "code",
   "source": [
    "plt.pie(Region_profit[\"Profit\"],\n",
    "    labels=Region_profit[\"Region\"],  autopct=\"%.1f%%\", )\n",
    "plt.show()"
   ],
   "id": "6b6b7d9cb898f220",
   "outputs": [
    {
     "data": {
      "text/plain": [
       "<Figure size 640x480 with 1 Axes>"
      ],
      "image/png": "[encoded data removed]"
     },
     "metadata": {},
     "output_type": "display_data"
    }
   ],
   "execution_count": 25
  },
  {
   "metadata": {
    "ExecuteTime": {
     "end_time": "2025-09-21T10:44:14.576698Z",
     "start_time": "2025-09-21T10:44:14.472340Z"
    }
   },
   "cell_type": "code",
   "source": [
    "plt.pie(Region_sales[\"Sales\"],\n",
    "    labels=Region_sales[\"Region\"],  autopct=\"%.1f%%\", )\n",
    "plt.show()"
   ],
   "id": "bb842931dafcd919",
   "outputs": [
    {
     "data": {
      "text/plain": [
       "<Figure size 640x480 with 1 Axes>"
      ],
      "image/png": "[encoded data removed]"
     },
     "metadata": {},
     "output_type": "display_data"
    }
   ],
   "execution_count": 26
  },
  {
   "metadata": {},
   "cell_type": "markdown",
   "source": "##### West has highest profit and sales , Central has lowest profit and South has lowest sales",
   "id": "915cbadcbcf4a6a8"
  },
  {
   "metadata": {},
   "cell_type": "markdown",
   "source": "##### Q4: Which states and cities generate the highest profit, and which incur the largest losses?",
   "id": "d2acbc4fd07c7a03"
  },
  {
   "metadata": {
    "ExecuteTime": {
     "end_time": "2025-09-21T10:44:14.870355Z",
     "start_time": "2025-09-21T10:44:14.849754Z"
    }
   },
   "cell_type": "code",
   "source": "df.groupby(\"State\")['Profit'].sum().reset_index().sort_values(\"Profit\", ascending=False)",
   "id": "5adf23e226ba7c78",
   "outputs": [
    {
     "data": {
      "text/plain": [
       "                   State      Profit\n",
       "3             California  76381.3871\n",
       "30              New York  74038.5486\n",
       "45            Washington  33402.6517\n",
       "20              Michigan  24463.1876\n",
       "44              Virginia  18597.9504\n",
       "12               Indiana  18382.9363\n",
       "9                Georgia  16250.0433\n",
       "15              Kentucky  11199.6966\n",
       "21             Minnesota  10823.1874\n",
       "6               Delaware   9977.3748\n",
       "28            New Jersey   9772.9138\n",
       "47             Wisconsin   8401.8004\n",
       "37          Rhode Island   7285.6293\n",
       "18              Maryland   7031.1788\n",
       "19         Massachusetts   6785.5016\n",
       "23              Missouri   6436.2105\n",
       "0                Alabama   5786.8253\n",
       "34              Oklahoma   4853.9560\n",
       "2               Arkansas   4008.6871\n",
       "5            Connecticut   3511.4918\n",
       "26                Nevada   3316.7659\n",
       "22           Mississippi   3172.9762\n",
       "42                  Utah   2546.5335\n",
       "43               Vermont   2244.9783\n",
       "16             Louisiana   2196.1023\n",
       "25              Nebraska   2037.0942\n",
       "24               Montana   1833.3285\n",
       "38        South Carolina   1769.0566\n",
       "27         New Hampshire   1706.5028\n",
       "13                  Iowa   1183.8119\n",
       "29            New Mexico   1157.1161\n",
       "7   District of Columbia   1059.5893\n",
       "14                Kansas    836.4435\n",
       "10                 Idaho    826.7231\n",
       "17                 Maine    454.4862\n",
       "39          South Dakota    394.8283\n",
       "32          North Dakota    230.1497\n",
       "46         West Virginia    185.9216\n",
       "48               Wyoming    100.1960\n",
       "35                Oregon  -1190.4705\n",
       "8                Florida  -3399.3017\n",
       "1                Arizona  -3427.9246\n",
       "40             Tennessee  -5341.6936\n",
       "4               Colorado  -6527.8579\n",
       "31        North Carolina  -7490.9122\n",
       "11              Illinois -12607.8870\n",
       "36          Pennsylvania -15559.9603\n",
       "33                  Ohio -16971.3766\n",
       "41                 Texas -25729.3563"
      ],
      "text/html": [
       "<div>\n",
       "<style scoped>\n",
       "    .dataframe tbody tr th:only-of-type {\n",
       "        vertical-align: middle;\n",
       "    }\n",
       "\n",
       "    .dataframe tbody tr th {\n",
       "        vertical-align: top;\n",
       "    }\n",
       "\n",
       "    .dataframe thead th {\n",
       "        text-align: right;\n",
       "    }\n",
       "</style>\n",
       "<table border=\"1\" class=\"dataframe\">\n",
       "  <thead>\n",
       "    <tr style=\"text-align: right;\">\n",
       "      <th></th>\n",
       "      <th>State</th>\n",
       "      <th>Profit</th>\n",
       "    </tr>\n",
       "  </thead>\n",
       "  <tbody>\n",
       "    <tr>\n",
       "      <th>3</th>\n",
       "      <td>California</td>\n",
       "      <td>76381.3871</td>\n",
       "    </tr>\n",
       "    <tr>\n",
       "      <th>30</th>\n",
       "      <td>New York</td>\n",
       "      <td>74038.5486</td>\n",
       "    </tr>\n",
       "    <tr>\n",
       "      <th>45</th>\n",
       "      <td>Washington</td>\n",
       "      <td>33402.6517</td>\n",
       "    </tr>\n",
       "    <tr>\n",
       "      <th>20</th>\n",
       "      <td>Michigan</td>\n",
       "      <td>24463.1876</td>\n",
       "    </tr>\n",
       "    <tr>\n",
       "      <th>44</th>\n",
       "      <td>Virginia</td>\n",
       "      <td>18597.9504</td>\n",
       "    </tr>\n",
       "    <tr>\n",
       "      <th>12</th>\n",
       "      <td>Indiana</td>\n",
       "      <td>18382.9363</td>\n",
       "    </tr>\n",
       "    <tr>\n",
       "      <th>9</th>\n",
       "      <td>Georgia</td>\n",
       "      <td>16250.0433</td>\n",
       "    </tr>\n",
       "    <tr>\n",
       "      <th>15</th>\n",
       "      <td>Kentucky</td>\n",
       "      <td>11199.6966</td>\n",
       "    </tr>\n",
       "    <tr>\n",
       "      <th>21</th>\n",
       "      <td>Minnesota</td>\n",
       "      <td>10823.1874</td>\n",
       "    </tr>\n",
       "    <tr>\n",
       "      <th>6</th>\n",
       "      <td>Delaware</td>\n",
       "      <td>9977.3748</td>\n",
       "    </tr>\n",
       "    <tr>\n",
       "      <th>28</th>\n",
       "      <td>New Jersey</td>\n",
       "      <td>9772.9138</td>\n",
       "    </tr>\n",
       "    <tr>\n",
       "      <th>47</th>\n",
       "      <td>Wisconsin</td>\n",
       "      <td>8401.8004</td>\n",
       "    </tr>\n",
       "    <tr>\n",
       "      <th>37</th>\n",
       "      <td>Rhode Island</td>\n",
       "      <td>7285.6293</td>\n",
       "    </tr>\n",
       "    <tr>\n",
       "      <th>18</th>\n",
       "      <td>Maryland</td>\n",
       "      <td>7031.1788</td>\n",
       "    </tr>\n",
       "    <tr>\n",
       "      <th>19</th>\n",
       "      <td>Massachusetts</td>\n",
       "      <td>6785.5016</td>\n",
       "    </tr>\n",
       "    <tr>\n",
       "      <th>23</th>\n",
       "      <td>Missouri</td>\n",
       "      <td>6436.2105</td>\n",
       "    </tr>\n",
       "    <tr>\n",
       "      <th>0</th>\n",
       "      <td>Alabama</td>\n",
       "      <td>5786.8253</td>\n",
       "    </tr>\n",
       "    <tr>\n",
       "      <th>34</th>\n",
       "      <td>Oklahoma</td>\n",
       "      <td>4853.9560</td>\n",
       "    </tr>\n",
       "    <tr>\n",
       "      <th>2</th>\n",
       "      <td>Arkansas</td>\n",
       "      <td>4008.6871</td>\n",
       "    </tr>\n",
       "    <tr>\n",
       "      <th>5</th>\n",
       "      <td>Connecticut</td>\n",
       "      <td>3511.4918</td>\n",
       "    </tr>\n",
       "    <tr>\n",
       "      <th>26</th>\n",
       "      <td>Nevada</td>\n",
       "      <td>3316.7659</td>\n",
       "    </tr>\n",
       "    <tr>\n",
       "      <th>22</th>\n",
       "      <td>Mississippi</td>\n",
       "      <td>3172.9762</td>\n",
       "    </tr>\n",
       "    <tr>\n",
       "      <th>42</th>\n",
       "      <td>Utah</td>\n",
       "      <td>2546.5335</td>\n",
       "    </tr>\n",
       "    <tr>\n",
       "      <th>43</th>\n",
       "      <td>Vermont</td>\n",
       "      <td>2244.9783</td>\n",
       "    </tr>\n",
       "    <tr>\n",
       "      <th>16</th>\n",
       "      <td>Louisiana</td>\n",
       "      <td>2196.1023</td>\n",
       "    </tr>\n",
       "    <tr>\n",
       "      <th>25</th>\n",
       "      <td>Nebraska</td>\n",
       "      <td>2037.0942</td>\n",
       "    </tr>\n",
       "    <tr>\n",
       "      <th>24</th>\n",
       "      <td>Montana</td>\n",
       "      <td>1833.3285</td>\n",
       "    </tr>\n",
       "    <tr>\n",
       "      <th>38</th>\n",
       "      <td>South Carolina</td>\n",
       "      <td>1769.0566</td>\n",
       "    </tr>\n",
       "    <tr>\n",
       "      <th>27</th>\n",
       "      <td>New Hampshire</td>\n",
       "      <td>1706.5028</td>\n",
       "    </tr>\n",
       "    <tr>\n",
       "      <th>13</th>\n",
       "      <td>Iowa</td>\n",
       "      <td>1183.8119</td>\n",
       "    </tr>\n",
       "    <tr>\n",
       "      <th>29</th>\n",
       "      <td>New Mexico</td>\n",
       "      <td>1157.1161</td>\n",
       "    </tr>\n",
       "    <tr>\n",
       "      <th>7</th>\n",
       "      <td>District of Columbia</td>\n",
       "      <td>1059.5893</td>\n",
       "    </tr>\n",
       "    <tr>\n",
       "      <th>14</th>\n",
       "      <td>Kansas</td>\n",
       "      <td>836.4435</td>\n",
       "    </tr>\n",
       "    <tr>\n",
       "      <th>10</th>\n",
       "      <td>Idaho</td>\n",
       "      <td>826.7231</td>\n",
       "    </tr>\n",
       "    <tr>\n",
       "      <th>17</th>\n",
       "      <td>Maine</td>\n",
       "      <td>454.4862</td>\n",
       "    </tr>\n",
       "    <tr>\n",
       "      <th>39</th>\n",
       "      <td>South Dakota</td>\n",
       "      <td>394.8283</td>\n",
       "    </tr>\n",
       "    <tr>\n",
       "      <th>32</th>\n",
       "      <td>North Dakota</td>\n",
       "      <td>230.1497</td>\n",
       "    </tr>\n",
       "    <tr>\n",
       "      <th>46</th>\n",
       "      <td>West Virginia</td>\n",
       "      <td>185.9216</td>\n",
       "    </tr>\n",
       "    <tr>\n",
       "      <th>48</th>\n",
       "      <td>Wyoming</td>\n",
       "      <td>100.1960</td>\n",
       "    </tr>\n",
       "    <tr>\n",
       "      <th>35</th>\n",
       "      <td>Oregon</td>\n",
       "      <td>-1190.4705</td>\n",
       "    </tr>\n",
       "    <tr>\n",
       "      <th>8</th>\n",
       "      <td>Florida</td>\n",
       "      <td>-3399.3017</td>\n",
       "    </tr>\n",
       "    <tr>\n",
       "      <th>1</th>\n",
       "      <td>Arizona</td>\n",
       "      <td>-3427.9246</td>\n",
       "    </tr>\n",
       "    <tr>\n",
       "      <th>40</th>\n",
       "      <td>Tennessee</td>\n",
       "      <td>-5341.6936</td>\n",
       "    </tr>\n",
       "    <tr>\n",
       "      <th>4</th>\n",
       "      <td>Colorado</td>\n",
       "      <td>-6527.8579</td>\n",
       "    </tr>\n",
       "    <tr>\n",
       "      <th>31</th>\n",
       "      <td>North Carolina</td>\n",
       "      <td>-7490.9122</td>\n",
       "    </tr>\n",
       "    <tr>\n",
       "      <th>11</th>\n",
       "      <td>Illinois</td>\n",
       "      <td>-12607.8870</td>\n",
       "    </tr>\n",
       "    <tr>\n",
       "      <th>36</th>\n",
       "      <td>Pennsylvania</td>\n",
       "      <td>-15559.9603</td>\n",
       "    </tr>\n",
       "    <tr>\n",
       "      <th>33</th>\n",
       "      <td>Ohio</td>\n",
       "      <td>-16971.3766</td>\n",
       "    </tr>\n",
       "    <tr>\n",
       "      <th>41</th>\n",
       "      <td>Texas</td>\n",
       "      <td>-25729.3563</td>\n",
       "    </tr>\n",
       "  </tbody>\n",
       "</table>\n",
       "</div>"
      ]
     },
     "execution_count": 28,
     "metadata": {},
     "output_type": "execute_result"
    }
   ],
   "execution_count": 28
  },
  {
   "metadata": {
    "ExecuteTime": {
     "end_time": "2025-09-21T10:44:15.102331Z",
     "start_time": "2025-09-21T10:44:15.081196Z"
    }
   },
   "cell_type": "code",
   "source": "df.groupby(\"City\")['Profit'].sum().reset_index().sort_values(\"Profit\",ascending=False)",
   "id": "a65daeadbcdca8d0",
   "outputs": [
    {
     "data": {
      "text/plain": [
       "              City      Profit\n",
       "329  New York City  62036.9837\n",
       "266    Los Angeles  30440.7579\n",
       "452        Seattle  29156.0967\n",
       "438  San Francisco  17507.3854\n",
       "123        Detroit  13181.7908\n",
       "..             ...         ...\n",
       "80         Chicago  -6654.5688\n",
       "241      Lancaster  -7239.0684\n",
       "434    San Antonio  -7299.0502\n",
       "207        Houston -10153.5485\n",
       "374   Philadelphia -13837.7674\n",
       "\n",
       "[531 rows x 2 columns]"
      ],
      "text/html": [
       "<div>\n",
       "<style scoped>\n",
       "    .dataframe tbody tr th:only-of-type {\n",
       "        vertical-align: middle;\n",
       "    }\n",
       "\n",
       "    .dataframe tbody tr th {\n",
       "        vertical-align: top;\n",
       "    }\n",
       "\n",
       "    .dataframe thead th {\n",
       "        text-align: right;\n",
       "    }\n",
       "</style>\n",
       "<table border=\"1\" class=\"dataframe\">\n",
       "  <thead>\n",
       "    <tr style=\"text-align: right;\">\n",
       "      <th></th>\n",
       "      <th>City</th>\n",
       "      <th>Profit</th>\n",
       "    </tr>\n",
       "  </thead>\n",
       "  <tbody>\n",
       "    <tr>\n",
       "      <th>329</th>\n",
       "      <td>New York City</td>\n",
       "      <td>62036.9837</td>\n",
       "    </tr>\n",
       "    <tr>\n",
       "      <th>266</th>\n",
       "      <td>Los Angeles</td>\n",
       "      <td>30440.7579</td>\n",
       "    </tr>\n",
       "    <tr>\n",
       "      <th>452</th>\n",
       "      <td>Seattle</td>\n",
       "      <td>29156.0967</td>\n",
       "    </tr>\n",
       "    <tr>\n",
       "      <th>438</th>\n",
       "      <td>San Francisco</td>\n",
       "      <td>17507.3854</td>\n",
       "    </tr>\n",
       "    <tr>\n",
       "      <th>123</th>\n",
       "      <td>Detroit</td>\n",
       "      <td>13181.7908</td>\n",
       "    </tr>\n",
       "    <tr>\n",
       "      <th>...</th>\n",
       "      <td>...</td>\n",
       "      <td>...</td>\n",
       "    </tr>\n",
       "    <tr>\n",
       "      <th>80</th>\n",
       "      <td>Chicago</td>\n",
       "      <td>-6654.5688</td>\n",
       "    </tr>\n",
       "    <tr>\n",
       "      <th>241</th>\n",
       "      <td>Lancaster</td>\n",
       "      <td>-7239.0684</td>\n",
       "    </tr>\n",
       "    <tr>\n",
       "      <th>434</th>\n",
       "      <td>San Antonio</td>\n",
       "      <td>-7299.0502</td>\n",
       "    </tr>\n",
       "    <tr>\n",
       "      <th>207</th>\n",
       "      <td>Houston</td>\n",
       "      <td>-10153.5485</td>\n",
       "    </tr>\n",
       "    <tr>\n",
       "      <th>374</th>\n",
       "      <td>Philadelphia</td>\n",
       "      <td>-13837.7674</td>\n",
       "    </tr>\n",
       "  </tbody>\n",
       "</table>\n",
       "<p>531 rows × 2 columns</p>\n",
       "</div>"
      ]
     },
     "execution_count": 29,
     "metadata": {},
     "output_type": "execute_result"
    }
   ],
   "execution_count": 29
  },
  {
   "metadata": {},
   "cell_type": "markdown",
   "source": "##### NewYork city has highest profit , Philadelphia has lowest profit, California state has highest profit and Texas has lowest profit",
   "id": "b54a2ab5e9382ac"
  },
  {
   "metadata": {},
   "cell_type": "markdown",
   "source": "##### Q5: What is the relationship between discounts and profitability?",
   "id": "2029d78252db22fa"
  },
  {
   "metadata": {
    "ExecuteTime": {
     "end_time": "2025-09-21T10:44:15.406647Z",
     "start_time": "2025-09-21T10:44:15.401086Z"
    }
   },
   "cell_type": "code",
   "source": "df.columns",
   "id": "75a564db5f608c4f",
   "outputs": [
    {
     "data": {
      "text/plain": [
       "Index(['Row ID', 'Order ID', 'Order Date', 'Ship Date', 'Ship Mode',\n",
       "       'Customer ID', 'Customer Name', 'Segment', 'Country', 'City', 'State',\n",
       "       'Postal Code', 'Region', 'Product ID', 'Category', 'Sub-Category',\n",
       "       'Product Name', 'Sales', 'Quantity', 'Discount', 'Profit', 'month',\n",
       "       'year', 'year_month', 'Shipping Days', 'Discount Amount', 'COGS',\n",
       "       'selling_price'],\n",
       "      dtype='object')"
      ]
     },
     "execution_count": 30,
     "metadata": {},
     "output_type": "execute_result"
    }
   ],
   "execution_count": 30
  },
  {
   "metadata": {
    "ExecuteTime": {
     "end_time": "2025-09-21T10:44:15.752282Z",
     "start_time": "2025-09-21T10:44:15.738528Z"
    }
   },
   "cell_type": "code",
   "source": "df[[\"Discount\", \"Profit\"]].corr()",
   "id": "19f844761c9d0e8f",
   "outputs": [
    {
     "data": {
      "text/plain": [
       "          Discount    Profit\n",
       "Discount  1.000000 -0.219487\n",
       "Profit   -0.219487  1.000000"
      ],
      "text/html": [
       "<div>\n",
       "<style scoped>\n",
       "    .dataframe tbody tr th:only-of-type {\n",
       "        vertical-align: middle;\n",
       "    }\n",
       "\n",
       "    .dataframe tbody tr th {\n",
       "        vertical-align: top;\n",
       "    }\n",
       "\n",
       "    .dataframe thead th {\n",
       "        text-align: right;\n",
       "    }\n",
       "</style>\n",
       "<table border=\"1\" class=\"dataframe\">\n",
       "  <thead>\n",
       "    <tr style=\"text-align: right;\">\n",
       "      <th></th>\n",
       "      <th>Discount</th>\n",
       "      <th>Profit</th>\n",
       "    </tr>\n",
       "  </thead>\n",
       "  <tbody>\n",
       "    <tr>\n",
       "      <th>Discount</th>\n",
       "      <td>1.000000</td>\n",
       "      <td>-0.219487</td>\n",
       "    </tr>\n",
       "    <tr>\n",
       "      <th>Profit</th>\n",
       "      <td>-0.219487</td>\n",
       "      <td>1.000000</td>\n",
       "    </tr>\n",
       "  </tbody>\n",
       "</table>\n",
       "</div>"
      ]
     },
     "execution_count": 31,
     "metadata": {},
     "output_type": "execute_result"
    }
   ],
   "execution_count": 31
  },
  {
   "metadata": {},
   "cell_type": "markdown",
   "source": " There is a weak negative correlation (-0.21) between Discount and Profit. This means higher discounts slightly reduce profit.\n",
   "id": "c5e6ca4d58b45821"
  },
  {
   "metadata": {},
   "cell_type": "markdown",
   "source": [
    "##### Q6: Which shipping mode is most frequently used and which is most profitable?\n",
    "(Compare Standard, Second Class, First Class, Same Day)"
   ],
   "id": "8ef556d141f0dd55"
  },
  {
   "metadata": {
    "ExecuteTime": {
     "end_time": "2025-09-21T11:03:30.580585Z",
     "start_time": "2025-09-21T11:03:30.564348Z"
    }
   },
   "cell_type": "code",
   "source": [
    "unique_orders = df[[\"Order ID\", \"Ship Mode\"]].drop_duplicates()\n",
    "UniqueOrders = unique_orders[\"Ship Mode\"].value_counts().reset_index()"
   ],
   "id": "bf311701b8f448e",
   "outputs": [],
   "execution_count": 49
  },
  {
   "metadata": {
    "ExecuteTime": {
     "end_time": "2025-09-21T11:03:08.077810Z",
     "start_time": "2025-09-21T11:03:08.070980Z"
    }
   },
   "cell_type": "code",
   "source": "UniqueOrders",
   "id": "343e5e4e16c53a20",
   "outputs": [
    {
     "data": {
      "text/plain": [
       "Ship Mode\n",
       "Standard Class    2994\n",
       "Second Class       964\n",
       "First Class        787\n",
       "Same Day           264\n",
       "Name: count, dtype: int64"
      ]
     },
     "execution_count": 48,
     "metadata": {},
     "output_type": "execute_result"
    }
   ],
   "execution_count": 48
  },
  {
   "metadata": {
    "ExecuteTime": {
     "end_time": "2025-09-21T11:03:35.256260Z",
     "start_time": "2025-09-21T11:03:33.071998Z"
    }
   },
   "cell_type": "code",
   "source": [
    "px.bar(UniqueOrders ,x  = \"Ship Mode\", y = \"count\" ,title=\"Number of Unique Orders per Shipping Mode\",\n",
    "color=\"Ship Mode\")\n"
   ],
   "id": "1afa168f24a59805",
   "outputs": [
    {
     "data": {
      "application/vnd.plotly.v1+json": {
       "data": [
        {
         "hovertemplate": "Ship Mode=%{x}<br>count=%{y}<extra></extra>",
         "legendgroup": "Standard Class",
         "marker": {
          "color": "#636efa",
          "pattern": {
           "shape": ""
          }
         },
         "name": "Standard Class",
         "orientation": "v",
         "showlegend": true,
         "textposition": "auto",
         "x": [
          "Standard Class"
         ],
         "xaxis": "x",
         "y": {
          "dtype": "i2",
          "bdata": "sgs="
         },
         "yaxis": "y",
         "type": "bar"
        },
        {
         "hovertemplate": "Ship Mode=%{x}<br>count=%{y}<extra></extra>",
         "legendgroup": "Second Class",
         "marker": {
          "color": "#EF553B",
          "pattern": {
           "shape": ""
          }
         },
         "name": "Second Class",
         "orientation": "v",
         "showlegend": true,
         "textposition": "auto",
         "x": [
          "Second Class"
         ],
         "xaxis": "x",
         "y": {
          "dtype": "i2",
          "bdata": "xAM="
         },
         "yaxis": "y",
         "type": "bar"
        },
        {
         "hovertemplate": "Ship Mode=%{x}<br>count=%{y}<extra></extra>",
         "legendgroup": "First Class",
         "marker": {
          "color": "#00cc96",
          "pattern": {
           "shape": ""
          }
         },
         "name": "First Class",
         "orientation": "v",
         "showlegend": true,
         "textposition": "auto",
         "x": [
          "First Class"
         ],
         "xaxis": "x",
         "y": {
          "dtype": "i2",
          "bdata": "EwM="
         },
         "yaxis": "y",
         "type": "bar"
        },
        {
         "hovertemplate": "Ship Mode=%{x}<br>count=%{y}<extra></extra>",
         "legendgroup": "Same Day",
         "marker": {
          "color": "#ab63fa",
          "pattern": {
           "shape": ""
          }
         },
         "name": "Same Day",
         "orientation": "v",
         "showlegend": true,
         "textposition": "auto",
         "x": [
          "Same Day"
         ],
         "xaxis": "x",
         "y": {
          "dtype": "i2",
          "bdata": "CAE="
         },
         "yaxis": "y",
         "type": "bar"
        }
       ],
       "layout": {
        "template": {
         "data": {
          "histogram2dcontour": [
           {
            "type": "histogram2dcontour",
            "colorbar": {
             "outlinewidth": 0,
             "ticks": ""
            },
            "colorscale": [
             [
              0.0,
              "#0d0887"
             ],
             [
              0.1111111111111111,
              "#46039f"
             ],
             [
              0.2222222222222222,
              "#7201a8"
             ],
             [
              0.3333333333333333,
              "#9c179e"
             ],
             [
              0.4444444444444444,
              "#bd3786"
             ],
             [
              0.5555555555555556,
              "#d8576b"
             ],
             [
              0.6666666666666666,
              "#ed7953"
             ],
             [
              0.7777777777777778,
              "#fb9f3a"
             ],
             [
              0.8888888888888888,
              "#fdca26"
             ],
             [
              1.0,
              "#f0f921"
             ]
            ]
           }
          ],
          "choropleth": [
           {
            "type": "choropleth",
            "colorbar": {
             "outlinewidth": 0,
             "ticks": ""
            }
           }
          ],
          "histogram2d": [
           {
            "type": "histogram2d",
            "colorbar": {
             "outlinewidth": 0,
             "ticks": ""
            },
            "colorscale": [
             [
              0.0,
              "#0d0887"
             ],
             [
              0.1111111111111111,
              "#46039f"
             ],
             [
              0.2222222222222222,
              "#7201a8"
             ],
             [
              0.3333333333333333,
              "#9c179e"
             ],
             [
              0.4444444444444444,
              "#bd3786"
             ],
             [
              0.5555555555555556,
              "#d8576b"
             ],
             [
              0.6666666666666666,
              "#ed7953"
             ],
             [
              0.7777777777777778,
              "#fb9f3a"
             ],
             [
              0.8888888888888888,
              "#fdca26"
             ],
             [
              1.0,
              "#f0f921"
             ]
            ]
           }
          ],
          "heatmap": [
           {
            "type": "heatmap",
            "colorbar": {
             "outlinewidth": 0,
             "ticks": ""
            },
            "colorscale": [
             [
              0.0,
              "#0d0887"
             ],
             [
              0.1111111111111111,
              "#46039f"
             ],
             [
              0.2222222222222222,
              "#7201a8"
             ],
             [
              0.3333333333333333,
              "#9c179e"
             ],
             [
              0.4444444444444444,
              "#bd3786"
             ],
             [
              0.5555555555555556,
              "#d8576b"
             ],
             [
              0.6666666666666666,
              "#ed7953"
             ],
             [
              0.7777777777777778,
              "#fb9f3a"
             ],
             [
              0.8888888888888888,
              "#fdca26"
             ],
             [
              1.0,
              "#f0f921"
             ]
            ]
           }
          ],
          "contourcarpet": [
           {
            "type": "contourcarpet",
            "colorbar": {
             "outlinewidth": 0,
             "ticks": ""
            }
           }
          ],
          "contour": [
           {
            "type": "contour",
            "colorbar": {
             "outlinewidth": 0,
             "ticks": ""
            },
            "colorscale": [
             [
              0.0,
              "#0d0887"
             ],
             [
              0.1111111111111111,
              "#46039f"
             ],
             [
              0.2222222222222222,
              "#7201a8"
             ],
             [
              0.3333333333333333,
              "#9c179e"
             ],
             [
              0.4444444444444444,
              "#bd3786"
             ],
             [
              0.5555555555555556,
              "#d8576b"
             ],
             [
              0.6666666666666666,
              "#ed7953"
             ],
             [
              0.7777777777777778,
              "#fb9f3a"
             ],
             [
              0.8888888888888888,
              "#fdca26"
             ],
             [
              1.0,
              "#f0f921"
             ]
            ]
           }
          ],
          "surface": [
           {
            "type": "surface",
            "colorbar": {
             "outlinewidth": 0,
             "ticks": ""
            },
            "colorscale": [
             [
              0.0,
              "#0d0887"
             ],
             [
              0.1111111111111111,
              "#46039f"
             ],
             [
              0.2222222222222222,
              "#7201a8"
             ],
             [
              0.3333333333333333,
              "#9c179e"
             ],
             [
              0.4444444444444444,
              "#bd3786"
             ],
             [
              0.5555555555555556,
              "#d8576b"
             ],
             [
              0.6666666666666666,
              "#ed7953"
             ],
             [
              0.7777777777777778,
              "#fb9f3a"
             ],
             [
              0.8888888888888888,
              "#fdca26"
             ],
             [
              1.0,
              "#f0f921"
             ]
            ]
           }
          ],
          "mesh3d": [
           {
            "type": "mesh3d",
            "colorbar": {
             "outlinewidth": 0,
             "ticks": ""
            }
           }
          ],
          "scatter": [
           {
            "marker": {
             "line": {
              "color": "#283442"
             }
            },
            "type": "scatter"
           }
          ],
          "parcoords": [
           {
            "type": "parcoords",
            "line": {
             "colorbar": {
              "outlinewidth": 0,
              "ticks": ""
             }
            }
           }
          ],
          "scatterpolargl": [
           {
            "type": "scatterpolargl",
            "marker": {
             "colorbar": {
              "outlinewidth": 0,
              "ticks": ""
             }
            }
           }
          ],
          "bar": [
           {
            "error_x": {
             "color": "#f2f5fa"
            },
            "error_y": {
             "color": "#f2f5fa"
            },
            "marker": {
             "line": {
              "color": "rgb(17,17,17)",
              "width": 0.5
             },
             "pattern": {
              "fillmode": "overlay",
              "size": 10,
              "solidity": 0.2
             }
            },
            "type": "bar"
           }
          ],
          "scattergeo": [
           {
            "type": "scattergeo",
            "marker": {
             "colorbar": {
              "outlinewidth": 0,
              "ticks": ""
             }
            }
           }
          ],
          "scatterpolar": [
           {
            "type": "scatterpolar",
            "marker": {
             "colorbar": {
              "outlinewidth": 0,
              "ticks": ""
             }
            }
           }
          ],
          "histogram": [
           {
            "marker": {
             "pattern": {
              "fillmode": "overlay",
              "size": 10,
              "solidity": 0.2
             }
            },
            "type": "histogram"
           }
          ],
          "scattergl": [
           {
            "marker": {
             "line": {
              "color": "#283442"
             }
            },
            "type": "scattergl"
           }
          ],
          "scatter3d": [
           {
            "type": "scatter3d",
            "line": {
             "colorbar": {
              "outlinewidth": 0,
              "ticks": ""
             }
            },
            "marker": {
             "colorbar": {
              "outlinewidth": 0,
              "ticks": ""
             }
            }
           }
          ],
          "scattermap": [
           {
            "type": "scattermap",
            "marker": {
             "colorbar": {
              "outlinewidth": 0,
              "ticks": ""
             }
            }
           }
          ],
          "scattermapbox": [
           {
            "type": "scattermapbox",
            "marker": {
             "colorbar": {
              "outlinewidth": 0,
              "ticks": ""
             }
            }
           }
          ],
          "scatterternary": [
           {
            "type": "scatterternary",
            "marker": {
             "colorbar": {
              "outlinewidth": 0,
              "ticks": ""
             }
            }
           }
          ],
          "scattercarpet": [
           {
            "type": "scattercarpet",
            "marker": {
             "colorbar": {
              "outlinewidth": 0,
              "ticks": ""
             }
            }
           }
          ],
          "carpet": [
           {
            "aaxis": {
             "endlinecolor": "#A2B1C6",
             "gridcolor": "#506784",
             "linecolor": "#506784",
             "minorgridcolor": "#506784",
             "startlinecolor": "#A2B1C6"
            },
            "baxis": {
             "endlinecolor": "#A2B1C6",
             "gridcolor": "#506784",
             "linecolor": "#506784",
             "minorgridcolor": "#506784",
             "startlinecolor": "#A2B1C6"
            },
            "type": "carpet"
           }
          ],
          "table": [
           {
            "cells": {
             "fill": {
              "color": "#506784"
             },
             "line": {
              "color": "rgb(17,17,17)"
             }
            },
            "header": {
             "fill": {
              "color": "#2a3f5f"
             },
             "line": {
              "color": "rgb(17,17,17)"
             }
            },
            "type": "table"
           }
          ],
          "barpolar": [
           {
            "marker": {
             "line": {
              "color": "rgb(17,17,17)",
              "width": 0.5
             },
             "pattern": {
              "fillmode": "overlay",
              "size": 10,
              "solidity": 0.2
             }
            },
            "type": "barpolar"
           }
          ],
          "pie": [
           {
            "automargin": true,
            "type": "pie"
           }
          ]
         },
         "layout": {
          "autotypenumbers": "strict",
          "colorway": [
           "#636efa",
           "#EF553B",
           "#00cc96",
           "#ab63fa",
           "#FFA15A",
           "#19d3f3",
           "#FF6692",
           "#B6E880",
           "#FF97FF",
           "#FECB52"
          ],
          "font": {
           "color": "#f2f5fa"
          },
          "hovermode": "closest",
          "hoverlabel": {
           "align": "left"
          },
          "paper_bgcolor": "rgb(17,17,17)",
          "plot_bgcolor": "rgb(17,17,17)",
          "polar": {
           "bgcolor": "rgb(17,17,17)",
           "angularaxis": {
            "gridcolor": "#506784",
            "linecolor": "#506784",
            "ticks": ""
           },
           "radialaxis": {
            "gridcolor": "#506784",
            "linecolor": "#506784",
            "ticks": ""
           }
          },
          "ternary": {
           "bgcolor": "rgb(17,17,17)",
           "aaxis": {
            "gridcolor": "#506784",
            "linecolor": "#506784",
            "ticks": ""
           },
           "baxis": {
            "gridcolor": "#506784",
            "linecolor": "#506784",
            "ticks": ""
           },
           "caxis": {
            "gridcolor": "#506784",
            "linecolor": "#506784",
            "ticks": ""
           }
          },
          "coloraxis": {
           "colorbar": {
            "outlinewidth": 0,
            "ticks": ""
           }
          },
          "colorscale": {
           "sequential": [
            [
             0.0,
             "#0d0887"
            ],
            [
             0.1111111111111111,
             "#46039f"
            ],
            [
             0.2222222222222222,
             "#7201a8"
            ],
            [
             0.3333333333333333,
             "#9c179e"
            ],
            [
             0.4444444444444444,
             "#bd3786"
            ],
            [
             0.5555555555555556,
             "#d8576b"
            ],
            [
             0.6666666666666666,
             "#ed7953"
            ],
            [
             0.7777777777777778,
             "#fb9f3a"
            ],
            [
             0.8888888888888888,
             "#fdca26"
            ],
            [
             1.0,
             "#f0f921"
            ]
           ],
           "sequentialminus": [
            [
             0.0,
             "#0d0887"
            ],
            [
             0.1111111111111111,
             "#46039f"
            ],
            [
             0.2222222222222222,
             "#7201a8"
            ],
            [
             0.3333333333333333,
             "#9c179e"
            ],
            [
             0.4444444444444444,
             "#bd3786"
            ],
            [
             0.5555555555555556,
             "#d8576b"
            ],
            [
             0.6666666666666666,
             "#ed7953"
            ],
            [
             0.7777777777777778,
             "#fb9f3a"
            ],
            [
             0.8888888888888888,
             "#fdca26"
            ],
            [
             1.0,
             "#f0f921"
            ]
           ],
           "diverging": [
            [
             0,
             "#8e0152"
            ],
            [
             0.1,
             "#c51b7d"
            ],
            [
             0.2,
             "#de77ae"
            ],
            [
             0.3,
             "#f1b6da"
            ],
            [
             0.4,
             "#fde0ef"
            ],
            [
             0.5,
             "#f7f7f7"
            ],
            [
             0.6,
             "#e6f5d0"
            ],
            [
             0.7,
             "#b8e186"
            ],
            [
             0.8,
             "#7fbc41"
            ],
            [
             0.9,
             "#4d9221"
            ],
            [
             1,
             "#276419"
            ]
           ]
          },
          "xaxis": {
           "gridcolor": "#283442",
           "linecolor": "#506784",
           "ticks": "",
           "title": {
            "standoff": 15
           },
           "zerolinecolor": "#283442",
           "automargin": true,
           "zerolinewidth": 2
          },
          "yaxis": {
           "gridcolor": "#283442",
           "linecolor": "#506784",
           "ticks": "",
           "title": {
            "standoff": 15
           },
           "zerolinecolor": "#283442",
           "automargin": true,
           "zerolinewidth": 2
          },
          "scene": {
           "xaxis": {
            "backgroundcolor": "rgb(17,17,17)",
            "gridcolor": "#506784",
            "linecolor": "#506784",
            "showbackground": true,
            "ticks": "",
            "zerolinecolor": "#C8D4E3",
            "gridwidth": 2
           },
           "yaxis": {
            "backgroundcolor": "rgb(17,17,17)",
            "gridcolor": "#506784",
            "linecolor": "#506784",
            "showbackground": true,
            "ticks": "",
            "zerolinecolor": "#C8D4E3",
            "gridwidth": 2
           },
           "zaxis": {
            "backgroundcolor": "rgb(17,17,17)",
            "gridcolor": "#506784",
            "linecolor": "#506784",
            "showbackground": true,
            "ticks": "",
            "zerolinecolor": "#C8D4E3",
            "gridwidth": 2
           }
          },
          "shapedefaults": {
           "line": {
            "color": "#f2f5fa"
           }
          },
          "annotationdefaults": {
           "arrowcolor": "#f2f5fa",
           "arrowhead": 0,
           "arrowwidth": 1
          },
          "geo": {
           "bgcolor": "rgb(17,17,17)",
           "landcolor": "rgb(17,17,17)",
           "subunitcolor": "#506784",
           "showland": true,
           "showlakes": true,
           "lakecolor": "rgb(17,17,17)"
          },
          "title": {
           "x": 0.05
          },
          "updatemenudefaults": {
           "bgcolor": "#506784",
           "borderwidth": 0
          },
          "sliderdefaults": {
           "bgcolor": "#C8D4E3",
           "borderwidth": 1,
           "bordercolor": "rgb(17,17,17)",
           "tickwidth": 0
          },
          "mapbox": {
           "style": "dark"
          }
         }
        },
        "xaxis": {
         "anchor": "y",
         "domain": [
          0.0,
          1.0
         ],
         "title": {
          "text": "Ship Mode"
         },
         "categoryorder": "array",
         "categoryarray": [
          "Standard Class",
          "Second Class",
          "First Class",
          "Same Day"
         ]
        },
        "yaxis": {
         "anchor": "x",
         "domain": [
          0.0,
          1.0
         ],
         "title": {
          "text": "count"
         }
        },
        "legend": {
         "title": {
          "text": "Ship Mode"
         },
         "tracegroupgap": 0
        },
        "title": {
         "text": "Number of Unique Orders per Shipping Mode"
        },
        "barmode": "relative"
       },
       "config": {
        "plotlyServerURL": "https://plot.ly"
       }
      }
     },
     "metadata": {},
     "output_type": "display_data"
    }
   ],
   "execution_count": 50
  },
  {
   "metadata": {},
   "cell_type": "markdown",
   "source": "##### Standard class is the most frequently used",
   "id": "18a7ced30ae762fd"
  },
  {
   "metadata": {
    "ExecuteTime": {
     "end_time": "2025-09-21T11:06:06.009589Z",
     "start_time": "2025-09-21T11:06:06.002181Z"
    }
   },
   "cell_type": "code",
   "source": "Ship_Mode_Profit = df.groupby(\"Ship Mode\")['Profit'].sum().reset_index().sort_values(\"Profit\", ascending=False)",
   "id": "4af753d994ad50dc",
   "outputs": [],
   "execution_count": 55
  },
  {
   "metadata": {
    "ExecuteTime": {
     "end_time": "2025-09-21T11:06:07.666027Z",
     "start_time": "2025-09-21T11:06:07.591369Z"
    }
   },
   "cell_type": "code",
   "source": [
    "px.bar(Ship_Mode_Profit ,x  = \"Ship Mode\", y = \"Profit\" ,title=\"Profit per Shipping Mode\",\n",
    "color=\"Ship Mode\")"
   ],
   "id": "ce00abbf37d5cda6",
   "outputs": [
    {
     "data": {
      "application/vnd.plotly.v1+json": {
       "data": [
        {
         "hovertemplate": "Ship Mode=%{x}<br>Profit=%{y}<extra></extra>",
         "legendgroup": "Standard Class",
         "marker": {
          "color": "#636efa",
          "pattern": {
           "shape": ""
          }
         },
         "name": "Standard Class",
         "orientation": "v",
         "showlegend": true,
         "textposition": "auto",
         "x": [
          "Standard Class"
         ],
         "xaxis": "x",
         "y": {
          "dtype": "f8",
          "bdata": "zczMTMYHBEE="
         },
         "yaxis": "y",
         "type": "bar"
        },
        {
         "hovertemplate": "Ship Mode=%{x}<br>Profit=%{y}<extra></extra>",
         "legendgroup": "Second Class",
         "marker": {
          "color": "#EF553B",
          "pattern": {
           "shape": ""
          }
         },
         "name": "Second Class",
         "orientation": "v",
         "showlegend": true,
         "textposition": "auto",
         "x": [
          "Second Class"
         ],
         "xaxis": "x",
         "y": {
          "dtype": "f8",
          "bdata": "fGEyVdQM7EA="
         },
         "yaxis": "y",
         "type": "bar"
        },
        {
         "hovertemplate": "Ship Mode=%{x}<br>Profit=%{y}<extra></extra>",
         "legendgroup": "First Class",
         "marker": {
          "color": "#00cc96",
          "pattern": {
           "shape": ""
          }
         },
         "name": "First Class",
         "orientation": "v",
         "showlegend": true,
         "textposition": "auto",
         "x": [
          "First Class"
         ],
         "xaxis": "x",
         "y": {
          "dtype": "f8",
          "bdata": "/fZ14Drp50A="
         },
         "yaxis": "y",
         "type": "bar"
        },
        {
         "hovertemplate": "Ship Mode=%{x}<br>Profit=%{y}<extra></extra>",
         "legendgroup": "Same Day",
         "marker": {
          "color": "#ab63fa",
          "pattern": {
           "shape": ""
          }
         },
         "name": "Same Day",
         "orientation": "v",
         "showlegend": true,
         "textposition": "auto",
         "x": [
          "Same Day"
         ],
         "xaxis": "x",
         "y": {
          "dtype": "f8",
          "bdata": "eJyiI+EJz0A="
         },
         "yaxis": "y",
         "type": "bar"
        }
       ],
       "layout": {
        "template": {
         "data": {
          "histogram2dcontour": [
           {
            "type": "histogram2dcontour",
            "colorbar": {
             "outlinewidth": 0,
             "ticks": ""
            },
            "colorscale": [
             [
              0.0,
              "#0d0887"
             ],
             [
              0.1111111111111111,
              "#46039f"
             ],
             [
              0.2222222222222222,
              "#7201a8"
             ],
             [
              0.3333333333333333,
              "#9c179e"
             ],
             [
              0.4444444444444444,
              "#bd3786"
             ],
             [
              0.5555555555555556,
              "#d8576b"
             ],
             [
              0.6666666666666666,
              "#ed7953"
             ],
             [
              0.7777777777777778,
              "#fb9f3a"
             ],
             [
              0.8888888888888888,
              "#fdca26"
             ],
             [
              1.0,
              "#f0f921"
             ]
            ]
           }
          ],
          "choropleth": [
           {
            "type": "choropleth",
            "colorbar": {
             "outlinewidth": 0,
             "ticks": ""
            }
           }
          ],
          "histogram2d": [
           {
            "type": "histogram2d",
            "colorbar": {
             "outlinewidth": 0,
             "ticks": ""
            },
            "colorscale": [
             [
              0.0,
              "#0d0887"
             ],
             [
              0.1111111111111111,
              "#46039f"
             ],
             [
              0.2222222222222222,
              "#7201a8"
             ],
             [
              0.3333333333333333,
              "#9c179e"
             ],
             [
              0.4444444444444444,
              "#bd3786"
             ],
             [
              0.5555555555555556,
              "#d8576b"
             ],
             [
              0.6666666666666666,
              "#ed7953"
             ],
             [
              0.7777777777777778,
              "#fb9f3a"
             ],
             [
              0.8888888888888888,
              "#fdca26"
             ],
             [
              1.0,
              "#f0f921"
             ]
            ]
           }
          ],
          "heatmap": [
           {
            "type": "heatmap",
            "colorbar": {
             "outlinewidth": 0,
             "ticks": ""
            },
            "colorscale": [
             [
              0.0,
              "#0d0887"
             ],
             [
              0.1111111111111111,
              "#46039f"
             ],
             [
              0.2222222222222222,
              "#7201a8"
             ],
             [
              0.3333333333333333,
              "#9c179e"
             ],
             [
              0.4444444444444444,
              "#bd3786"
             ],
             [
              0.5555555555555556,
              "#d8576b"
             ],
             [
              0.6666666666666666,
              "#ed7953"
             ],
             [
              0.7777777777777778,
              "#fb9f3a"
             ],
             [
              0.8888888888888888,
              "#fdca26"
             ],
             [
              1.0,
              "#f0f921"
             ]
            ]
           }
          ],
          "contourcarpet": [
           {
            "type": "contourcarpet",
            "colorbar": {
             "outlinewidth": 0,
             "ticks": ""
            }
           }
          ],
          "contour": [
           {
            "type": "contour",
            "colorbar": {
             "outlinewidth": 0,
             "ticks": ""
            },
            "colorscale": [
             [
              0.0,
              "#0d0887"
             ],
             [
              0.1111111111111111,
              "#46039f"
             ],
             [
              0.2222222222222222,
              "#7201a8"
             ],
             [
              0.3333333333333333,
              "#9c179e"
             ],
             [
              0.4444444444444444,
              "#bd3786"
             ],
             [
              0.5555555555555556,
              "#d8576b"
             ],
             [
              0.6666666666666666,
              "#ed7953"
             ],
             [
              0.7777777777777778,
              "#fb9f3a"
             ],
             [
              0.8888888888888888,
              "#fdca26"
             ],
             [
              1.0,
              "#f0f921"
             ]
            ]
           }
          ],
          "surface": [
           {
            "type": "surface",
            "colorbar": {
             "outlinewidth": 0,
             "ticks": ""
            },
            "colorscale": [
             [
              0.0,
              "#0d0887"
             ],
             [
              0.1111111111111111,
              "#46039f"
             ],
             [
              0.2222222222222222,
              "#7201a8"
             ],
             [
              0.3333333333333333,
              "#9c179e"
             ],
             [
              0.4444444444444444,
              "#bd3786"
             ],
             [
              0.5555555555555556,
              "#d8576b"
             ],
             [
              0.6666666666666666,
              "#ed7953"
             ],
             [
              0.7777777777777778,
              "#fb9f3a"
             ],
             [
              0.8888888888888888,
              "#fdca26"
             ],
             [
              1.0,
              "#f0f921"
             ]
            ]
           }
          ],
          "mesh3d": [
           {
            "type": "mesh3d",
            "colorbar": {
             "outlinewidth": 0,
             "ticks": ""
            }
           }
          ],
          "scatter": [
           {
            "marker": {
             "line": {
              "color": "#283442"
             }
            },
            "type": "scatter"
           }
          ],
          "parcoords": [
           {
            "type": "parcoords",
            "line": {
             "colorbar": {
              "outlinewidth": 0,
              "ticks": ""
             }
            }
           }
          ],
          "scatterpolargl": [
           {
            "type": "scatterpolargl",
            "marker": {
             "colorbar": {
              "outlinewidth": 0,
              "ticks": ""
             }
            }
           }
          ],
          "bar": [
           {
            "error_x": {
             "color": "#f2f5fa"
            },
            "error_y": {
             "color": "#f2f5fa"
            },
            "marker": {
             "line": {
              "color": "rgb(17,17,17)",
              "width": 0.5
             },
             "pattern": {
              "fillmode": "overlay",
              "size": 10,
              "solidity": 0.2
             }
            },
            "type": "bar"
           }
          ],
          "scattergeo": [
           {
            "type": "scattergeo",
            "marker": {
             "colorbar": {
              "outlinewidth": 0,
              "ticks": ""
             }
            }
           }
          ],
          "scatterpolar": [
           {
            "type": "scatterpolar",
            "marker": {
             "colorbar": {
              "outlinewidth": 0,
              "ticks": ""
             }
            }
           }
          ],
          "histogram": [
           {
            "marker": {
             "pattern": {
              "fillmode": "overlay",
              "size": 10,
              "solidity": 0.2
             }
            },
            "type": "histogram"
           }
          ],
          "scattergl": [
           {
            "marker": {
             "line": {
              "color": "#283442"
             }
            },
            "type": "scattergl"
           }
          ],
          "scatter3d": [
           {
            "type": "scatter3d",
            "line": {
             "colorbar": {
              "outlinewidth": 0,
              "ticks": ""
             }
            },
            "marker": {
             "colorbar": {
              "outlinewidth": 0,
              "ticks": ""
             }
            }
           }
          ],
          "scattermap": [
           {
            "type": "scattermap",
            "marker": {
             "colorbar": {
              "outlinewidth": 0,
              "ticks": ""
             }
            }
           }
          ],
          "scattermapbox": [
           {
            "type": "scattermapbox",
            "marker": {
             "colorbar": {
              "outlinewidth": 0,
              "ticks": ""
             }
            }
           }
          ],
          "scatterternary": [
           {
            "type": "scatterternary",
            "marker": {
             "colorbar": {
              "outlinewidth": 0,
              "ticks": ""
             }
            }
           }
          ],
          "scattercarpet": [
           {
            "type": "scattercarpet",
            "marker": {
             "colorbar": {
              "outlinewidth": 0,
              "ticks": ""
             }
            }
           }
          ],
          "carpet": [
           {
            "aaxis": {
             "endlinecolor": "#A2B1C6",
             "gridcolor": "#506784",
             "linecolor": "#506784",
             "minorgridcolor": "#506784",
             "startlinecolor": "#A2B1C6"
            },
            "baxis": {
             "endlinecolor": "#A2B1C6",
             "gridcolor": "#506784",
             "linecolor": "#506784",
             "minorgridcolor": "#506784",
             "startlinecolor": "#A2B1C6"
            },
            "type": "carpet"
           }
          ],
          "table": [
           {
            "cells": {
             "fill": {
              "color": "#506784"
             },
             "line": {
              "color": "rgb(17,17,17)"
             }
            },
            "header": {
             "fill": {
              "color": "#2a3f5f"
             },
             "line": {
              "color": "rgb(17,17,17)"
             }
            },
            "type": "table"
           }
          ],
          "barpolar": [
           {
            "marker": {
             "line": {
              "color": "rgb(17,17,17)",
              "width": 0.5
             },
             "pattern": {
              "fillmode": "overlay",
              "size": 10,
              "solidity": 0.2
             }
            },
            "type": "barpolar"
           }
          ],
          "pie": [
           {
            "automargin": true,
            "type": "pie"
           }
          ]
         },
         "layout": {
          "autotypenumbers": "strict",
          "colorway": [
           "#636efa",
           "#EF553B",
           "#00cc96",
           "#ab63fa",
           "#FFA15A",
           "#19d3f3",
           "#FF6692",
           "#B6E880",
           "#FF97FF",
           "#FECB52"
          ],
          "font": {
           "color": "#f2f5fa"
          },
          "hovermode": "closest",
          "hoverlabel": {
           "align": "left"
          },
          "paper_bgcolor": "rgb(17,17,17)",
          "plot_bgcolor": "rgb(17,17,17)",
          "polar": {
           "bgcolor": "rgb(17,17,17)",
           "angularaxis": {
            "gridcolor": "#506784",
            "linecolor": "#506784",
            "ticks": ""
           },
           "radialaxis": {
            "gridcolor": "#506784",
            "linecolor": "#506784",
            "ticks": ""
           }
          },
          "ternary": {
           "bgcolor": "rgb(17,17,17)",
           "aaxis": {
            "gridcolor": "#506784",
            "linecolor": "#506784",
            "ticks": ""
           },
           "baxis": {
            "gridcolor": "#506784",
            "linecolor": "#506784",
            "ticks": ""
           },
           "caxis": {
            "gridcolor": "#506784",
            "linecolor": "#506784",
            "ticks": ""
           }
          },
          "coloraxis": {
           "colorbar": {
            "outlinewidth": 0,
            "ticks": ""
           }
          },
          "colorscale": {
           "sequential": [
            [
             0.0,
             "#0d0887"
            ],
            [
             0.1111111111111111,
             "#46039f"
            ],
            [
             0.2222222222222222,
             "#7201a8"
            ],
            [
             0.3333333333333333,
             "#9c179e"
            ],
            [
             0.4444444444444444,
             "#bd3786"
            ],
            [
             0.5555555555555556,
             "#d8576b"
            ],
            [
             0.6666666666666666,
             "#ed7953"
            ],
            [
             0.7777777777777778,
             "#fb9f3a"
            ],
            [
             0.8888888888888888,
             "#fdca26"
            ],
            [
             1.0,
             "#f0f921"
            ]
           ],
           "sequentialminus": [
            [
             0.0,
             "#0d0887"
            ],
            [
             0.1111111111111111,
             "#46039f"
            ],
            [
             0.2222222222222222,
             "#7201a8"
            ],
            [
             0.3333333333333333,
             "#9c179e"
            ],
            [
             0.4444444444444444,
             "#bd3786"
            ],
            [
             0.5555555555555556,
             "#d8576b"
            ],
            [
             0.6666666666666666,
             "#ed7953"
            ],
            [
             0.7777777777777778,
             "#fb9f3a"
            ],
            [
             0.8888888888888888,
             "#fdca26"
            ],
            [
             1.0,
             "#f0f921"
            ]
           ],
           "diverging": [
            [
             0,
             "#8e0152"
            ],
            [
             0.1,
             "#c51b7d"
            ],
            [
             0.2,
             "#de77ae"
            ],
            [
             0.3,
             "#f1b6da"
            ],
            [
             0.4,
             "#fde0ef"
            ],
            [
             0.5,
             "#f7f7f7"
            ],
            [
             0.6,
             "#e6f5d0"
            ],
            [
             0.7,
             "#b8e186"
            ],
            [
             0.8,
             "#7fbc41"
            ],
            [
             0.9,
             "#4d9221"
            ],
            [
             1,
             "#276419"
            ]
           ]
          },
          "xaxis": {
           "gridcolor": "#283442",
           "linecolor": "#506784",
           "ticks": "",
           "title": {
            "standoff": 15
           },
           "zerolinecolor": "#283442",
           "automargin": true,
           "zerolinewidth": 2
          },
          "yaxis": {
           "gridcolor": "#283442",
           "linecolor": "#506784",
           "ticks": "",
           "title": {
            "standoff": 15
           },
           "zerolinecolor": "#283442",
           "automargin": true,
           "zerolinewidth": 2
          },
          "scene": {
           "xaxis": {
            "backgroundcolor": "rgb(17,17,17)",
            "gridcolor": "#506784",
            "linecolor": "#506784",
            "showbackground": true,
            "ticks": "",
            "zerolinecolor": "#C8D4E3",
            "gridwidth": 2
           },
           "yaxis": {
            "backgroundcolor": "rgb(17,17,17)",
            "gridcolor": "#506784",
            "linecolor": "#506784",
            "showbackground": true,
            "ticks": "",
            "zerolinecolor": "#C8D4E3",
            "gridwidth": 2
           },
           "zaxis": {
            "backgroundcolor": "rgb(17,17,17)",
            "gridcolor": "#506784",
            "linecolor": "#506784",
            "showbackground": true,
            "ticks": "",
            "zerolinecolor": "#C8D4E3",
            "gridwidth": 2
           }
          },
          "shapedefaults": {
           "line": {
            "color": "#f2f5fa"
           }
          },
          "annotationdefaults": {
           "arrowcolor": "#f2f5fa",
           "arrowhead": 0,
           "arrowwidth": 1
          },
          "geo": {
           "bgcolor": "rgb(17,17,17)",
           "landcolor": "rgb(17,17,17)",
           "subunitcolor": "#506784",
           "showland": true,
           "showlakes": true,
           "lakecolor": "rgb(17,17,17)"
          },
          "title": {
           "x": 0.05
          },
          "updatemenudefaults": {
           "bgcolor": "#506784",
           "borderwidth": 0
          },
          "sliderdefaults": {
           "bgcolor": "#C8D4E3",
           "borderwidth": 1,
           "bordercolor": "rgb(17,17,17)",
           "tickwidth": 0
          },
          "mapbox": {
           "style": "dark"
          }
         }
        },
        "xaxis": {
         "anchor": "y",
         "domain": [
          0.0,
          1.0
         ],
         "title": {
          "text": "Ship Mode"
         },
         "categoryorder": "array",
         "categoryarray": [
          "Standard Class",
          "Second Class",
          "First Class",
          "Same Day"
         ]
        },
        "yaxis": {
         "anchor": "x",
         "domain": [
          0.0,
          1.0
         ],
         "title": {
          "text": "Profit"
         }
        },
        "legend": {
         "title": {
          "text": "Ship Mode"
         },
         "tracegroupgap": 0
        },
        "title": {
         "text": "Profit per Shipping Mode"
        },
        "barmode": "relative"
       },
       "config": {
        "plotlyServerURL": "https://plot.ly"
       }
      }
     },
     "metadata": {},
     "output_type": "display_data"
    }
   ],
   "execution_count": 56
  },
  {
   "metadata": {},
   "cell_type": "markdown",
   "source": "##### Standard class is the most profitable ship mode",
   "id": "25c30fce964bcf66"
  },
  {
   "metadata": {},
   "cell_type": "markdown",
   "source": [
    "##### Q7: Which products are the top sellers (by sales volume) and which are the most profitable?\n",
    "(Identify “star products” and “loss leaders”)"
   ],
   "id": "6e1dc33bcee40a01"
  },
  {
   "metadata": {
    "ExecuteTime": {
     "end_time": "2025-09-21T11:16:03.312737Z",
     "start_time": "2025-09-21T11:16:03.297821Z"
    }
   },
   "cell_type": "code",
   "source": "df.groupby(\"Product Name\")['Sales'].sum().reset_index().sort_values(\"Sales\", ascending=False).head(10)",
   "id": "311066f71d6f21b5",
   "outputs": [
    {
     "data": {
      "text/plain": [
       "                                          Product Name      Sales\n",
       "403              Canon imageCLASS 2200 Advanced Copier  61599.824\n",
       "648  Fellowes PB500 Electric Punch Plastic Comb Bin...  27453.384\n",
       "443  Cisco TelePresence System EX90 Videoconferenci...  22638.480\n",
       "784       HON 5400 Series Task Chairs for Big and Tall  21870.576\n",
       "684         GBC DocuBind TL300 Electric Binding System  19823.479\n",
       "686   GBC Ibimaster 500 Manual ProClick Binding System  19024.500\n",
       "803               Hewlett Packard LaserJet 3310 Copier  18839.686\n",
       "785  HP Designjet T520 Inkjet Large Format Printer ...  18374.895\n",
       "681          GBC DocuBind P400 Electric Binding System  17965.068\n",
       "811        High Speed Automatic Electric Letter Opener  17030.312"
      ],
      "text/html": [
       "<div>\n",
       "<style scoped>\n",
       "    .dataframe tbody tr th:only-of-type {\n",
       "        vertical-align: middle;\n",
       "    }\n",
       "\n",
       "    .dataframe tbody tr th {\n",
       "        vertical-align: top;\n",
       "    }\n",
       "\n",
       "    .dataframe thead th {\n",
       "        text-align: right;\n",
       "    }\n",
       "</style>\n",
       "<table border=\"1\" class=\"dataframe\">\n",
       "  <thead>\n",
       "    <tr style=\"text-align: right;\">\n",
       "      <th></th>\n",
       "      <th>Product Name</th>\n",
       "      <th>Sales</th>\n",
       "    </tr>\n",
       "  </thead>\n",
       "  <tbody>\n",
       "    <tr>\n",
       "      <th>403</th>\n",
       "      <td>Canon imageCLASS 2200 Advanced Copier</td>\n",
       "      <td>61599.824</td>\n",
       "    </tr>\n",
       "    <tr>\n",
       "      <th>648</th>\n",
       "      <td>Fellowes PB500 Electric Punch Plastic Comb Bin...</td>\n",
       "      <td>27453.384</td>\n",
       "    </tr>\n",
       "    <tr>\n",
       "      <th>443</th>\n",
       "      <td>Cisco TelePresence System EX90 Videoconferenci...</td>\n",
       "      <td>22638.480</td>\n",
       "    </tr>\n",
       "    <tr>\n",
       "      <th>784</th>\n",
       "      <td>HON 5400 Series Task Chairs for Big and Tall</td>\n",
       "      <td>21870.576</td>\n",
       "    </tr>\n",
       "    <tr>\n",
       "      <th>684</th>\n",
       "      <td>GBC DocuBind TL300 Electric Binding System</td>\n",
       "      <td>19823.479</td>\n",
       "    </tr>\n",
       "    <tr>\n",
       "      <th>686</th>\n",
       "      <td>GBC Ibimaster 500 Manual ProClick Binding System</td>\n",
       "      <td>19024.500</td>\n",
       "    </tr>\n",
       "    <tr>\n",
       "      <th>803</th>\n",
       "      <td>Hewlett Packard LaserJet 3310 Copier</td>\n",
       "      <td>18839.686</td>\n",
       "    </tr>\n",
       "    <tr>\n",
       "      <th>785</th>\n",
       "      <td>HP Designjet T520 Inkjet Large Format Printer ...</td>\n",
       "      <td>18374.895</td>\n",
       "    </tr>\n",
       "    <tr>\n",
       "      <th>681</th>\n",
       "      <td>GBC DocuBind P400 Electric Binding System</td>\n",
       "      <td>17965.068</td>\n",
       "    </tr>\n",
       "    <tr>\n",
       "      <th>811</th>\n",
       "      <td>High Speed Automatic Electric Letter Opener</td>\n",
       "      <td>17030.312</td>\n",
       "    </tr>\n",
       "  </tbody>\n",
       "</table>\n",
       "</div>"
      ]
     },
     "execution_count": 64,
     "metadata": {},
     "output_type": "execute_result"
    }
   ],
   "execution_count": 64
  },
  {
   "metadata": {
    "ExecuteTime": {
     "end_time": "2025-09-21T11:26:36.636571Z",
     "start_time": "2025-09-21T11:26:36.615735Z"
    }
   },
   "cell_type": "code",
   "source": "df.groupby(\"Product Name\")['Profit'].sum().reset_index().sort_values(\"Profit\",ascending=False).head(10)",
   "id": "daeda55c0f84af4e",
   "outputs": [
    {
     "data": {
      "text/plain": [
       "                                           Product Name      Profit\n",
       "403               Canon imageCLASS 2200 Advanced Copier  25199.9280\n",
       "648   Fellowes PB500 Electric Punch Plastic Comb Bin...   7753.0390\n",
       "803                Hewlett Packard LaserJet 3310 Copier   6983.8836\n",
       "399                  Canon PC1060 Personal Laser Copier   4570.9347\n",
       "785   HP Designjet T520 Inkjet Large Format Printer ...   4094.9766\n",
       "164                   Ativa V4110MDD Micro-Cut Shredder   3772.9461\n",
       "18     3D Systems Cube Printer, 2nd Generation, Magenta   3717.9714\n",
       "1274  Plantronics Savi W720 Multi-Device Wireless He...   3696.2820\n",
       "893                Ibico EPK-21 Electric Binding System   3345.2823\n",
       "1831                  Zebra ZM400 Thermal Label Printer   3343.5360"
      ],
      "text/html": [
       "<div>\n",
       "<style scoped>\n",
       "    .dataframe tbody tr th:only-of-type {\n",
       "        vertical-align: middle;\n",
       "    }\n",
       "\n",
       "    .dataframe tbody tr th {\n",
       "        vertical-align: top;\n",
       "    }\n",
       "\n",
       "    .dataframe thead th {\n",
       "        text-align: right;\n",
       "    }\n",
       "</style>\n",
       "<table border=\"1\" class=\"dataframe\">\n",
       "  <thead>\n",
       "    <tr style=\"text-align: right;\">\n",
       "      <th></th>\n",
       "      <th>Product Name</th>\n",
       "      <th>Profit</th>\n",
       "    </tr>\n",
       "  </thead>\n",
       "  <tbody>\n",
       "    <tr>\n",
       "      <th>403</th>\n",
       "      <td>Canon imageCLASS 2200 Advanced Copier</td>\n",
       "      <td>25199.9280</td>\n",
       "    </tr>\n",
       "    <tr>\n",
       "      <th>648</th>\n",
       "      <td>Fellowes PB500 Electric Punch Plastic Comb Bin...</td>\n",
       "      <td>7753.0390</td>\n",
       "    </tr>\n",
       "    <tr>\n",
       "      <th>803</th>\n",
       "      <td>Hewlett Packard LaserJet 3310 Copier</td>\n",
       "      <td>6983.8836</td>\n",
       "    </tr>\n",
       "    <tr>\n",
       "      <th>399</th>\n",
       "      <td>Canon PC1060 Personal Laser Copier</td>\n",
       "      <td>4570.9347</td>\n",
       "    </tr>\n",
       "    <tr>\n",
       "      <th>785</th>\n",
       "      <td>HP Designjet T520 Inkjet Large Format Printer ...</td>\n",
       "      <td>4094.9766</td>\n",
       "    </tr>\n",
       "    <tr>\n",
       "      <th>164</th>\n",
       "      <td>Ativa V4110MDD Micro-Cut Shredder</td>\n",
       "      <td>3772.9461</td>\n",
       "    </tr>\n",
       "    <tr>\n",
       "      <th>18</th>\n",
       "      <td>3D Systems Cube Printer, 2nd Generation, Magenta</td>\n",
       "      <td>3717.9714</td>\n",
       "    </tr>\n",
       "    <tr>\n",
       "      <th>1274</th>\n",
       "      <td>Plantronics Savi W720 Multi-Device Wireless He...</td>\n",
       "      <td>3696.2820</td>\n",
       "    </tr>\n",
       "    <tr>\n",
       "      <th>893</th>\n",
       "      <td>Ibico EPK-21 Electric Binding System</td>\n",
       "      <td>3345.2823</td>\n",
       "    </tr>\n",
       "    <tr>\n",
       "      <th>1831</th>\n",
       "      <td>Zebra ZM400 Thermal Label Printer</td>\n",
       "      <td>3343.5360</td>\n",
       "    </tr>\n",
       "  </tbody>\n",
       "</table>\n",
       "</div>"
      ]
     },
     "execution_count": 66,
     "metadata": {},
     "output_type": "execute_result"
    }
   ],
   "execution_count": 66
  },
  {
   "metadata": {},
   "cell_type": "markdown",
   "source": [
    "### Q7: Top Selling and Most Profitable Products\n",
    "\n",
    "#### 📊 Top Sellers (by Sales Volume)\n",
    "- Canon imageCLASS 2200 Advanced Copier → ~61.6K\n",
    "- Fellowes PB500 Electric Punch Plastic Comb Binding Machine → ~27.4K\n",
    "- Cisco TelePresence System → ~22.6K\n",
    "- HON 5400 Series Task Chairs → ~21.8K\n",
    "- GBC DocuBind TL300 Electric Binding System → ~19.8K\n",
    "- GBC Ibimaster 500 Manual Binding System → ~19.0K\n",
    "- Hewlett Packard LaserJet 3310 Copier → ~18.8K\n",
    "- HP Designjet T520 Inkjet Large Format Printer → ~18.3K\n",
    "- GBC DocuBind P400 Electric Binding System → ~17.9K\n",
    "- High Speed Automatic Electric Letter Opener → ~17.0K\n",
    "\n",
    "#### 💰 Most Profitable Products\n",
    "- Canon imageCLASS 2200 Advanced Copier → ~25.2K\n",
    "- Fellowes PB500 Electric Punch Plastic Comb Binding Machine → ~7.8K\n",
    "- Hewlett Packard LaserJet 3310 Copier → ~6.9K\n",
    "- Canon PC1060 Personal Copier → ~4.6K\n",
    "- HP Designjet T520 Inkjet Large Format Printer → ~4.1K\n",
    "- Ativa V4110MDD Micro-Cut Shredder → ~3.8K\n",
    "- 3D Systems Cube Printer → ~3.7K\n",
    "- Plantronics Savi W720 Wireless Headset → ~3.7K\n",
    "- Ibico EPK-21 Electric Binding System → ~3.3K\n",
    "- Zebra ZM400 Thermal Label Printer → ~3.3K\n",
    "\n",
    "---\n",
    "\n",
    "### 🔑 Insights\n",
    "\n",
    "- **Star Product(s):**\n",
    "  - *Canon imageCLASS 2200 Advanced Copier*\n",
    "    → Appears in both Top Sales and Top Profit lists.\n",
    "    → Very strong performer; company should ensure stock availability and consider marketing focus.\n",
    "\n",
    "- **Other Strong Performers:**\n",
    "  - *Fellowes PB500* and *HP LaserJet 3310 Copier* show high sales and high profit as well.\n",
    "\n",
    "- **Potential Loss Leaders:**\n",
    "  - Some products appear in the Top Sales list but **not** in Top Profit (e.g., HON 5400 Series Task Chairs, GBC Ibimaster).\n",
    "  - These might have **low margins** or be sold at heavy discounts.\n",
    "\n",
    "- **Business Recommendations:**\n",
    "  - Increase promotion and availability of **Star Products**.\n",
    "  - Investigate cost structure / pricing strategy for high-sales but low-profit items.\n",
    "  - Evaluate whether “loss leaders” are strategically valuable (attracting customers) or just reducing profit.\n"
   ],
   "id": "db1f2c4091912be9"
  },
  {
   "metadata": {
    "ExecuteTime": {
     "end_time": "2025-09-21T11:30:47.395518Z",
     "start_time": "2025-09-21T11:30:47.252684Z"
    }
   },
   "cell_type": "code",
   "source": [
    "sns.heatmap(df[['Sales','Profit']].corr(),annot=True)\n",
    "plt.show()"
   ],
   "id": "8f675c401147250f",
   "outputs": [
    {
     "data": {
      "text/plain": [
       "<Figure size 640x480 with 2 Axes>"
      ],
      "image/png": "[encoded data removed]"
     },
     "metadata": {},
     "output_type": "display_data"
    }
   ],
   "execution_count": 68
  },
  {
   "metadata": {},
   "cell_type": "markdown",
   "source": [
    "##### Q8: How has sales and profit trended over time (by year and month)?\n",
    "(Seasonal or yearly growth patterns)"
   ],
   "id": "5467532cd70e0b08"
  },
  {
   "metadata": {
    "ExecuteTime": {
     "end_time": "2025-09-21T13:21:18.783163Z",
     "start_time": "2025-09-21T13:21:18.404057Z"
    }
   },
   "cell_type": "code",
   "source": [
    "plt.figure(figsize=(12,5))\n",
    "plt.subplot(211)\n",
    "df.groupby(['year'])['Order Date'].count().plot()\n",
    "plt.ylabel('count')\n",
    "plt.xticks(df.groupby(['year'])['Order Date'].count().index)\n",
    "plt.title('Yearly order count')\n",
    "plt.subplot(212)\n",
    "df.groupby('year')['Sales'].sum().plot()\n",
    "plt.ylabel('Sales')\n",
    "plt.xticks(df.groupby('year')['Sales'].sum().index)\n",
    "plt.title('Yearly sales')\n",
    "plt.tight_layout()\n",
    "plt.show()"
   ],
   "id": "29d80ba7326c8744",
   "outputs": [
    {
     "data": {
      "text/plain": [
       "<Figure size 1200x500 with 2 Axes>"
      ],
      "image/png": "[encoded data removed]"
     },
     "metadata": {},
     "output_type": "display_data"
    }
   ],
   "execution_count": 112
  },
  {
   "metadata": {
    "ExecuteTime": {
     "end_time": "2025-09-21T13:28:28.215161Z",
     "start_time": "2025-09-21T13:28:27.771635Z"
    }
   },
   "cell_type": "code",
   "source": [
    "plt.figure(figsize=(12,5))\n",
    "plt.subplot(211)\n",
    "df.groupby(['month'])['Order Date'].count().plot()\n",
    "plt.ylabel('count')\n",
    "plt.xticks(df.groupby(['month'])['Order Date'].count().index)\n",
    "plt.title('Monthly order count')\n",
    "plt.subplot(212)\n",
    "df.groupby(['month'])['Profit'].sum().plot()\n",
    "plt.ylabel('Profit')\n",
    "plt.title(\"Profit over months\")\n",
    "plt.tight_layout()\n",
    "plt.show()"
   ],
   "id": "453330d6025a3343",
   "outputs": [
    {
     "data": {
      "text/plain": [
       "<Figure size 1200x500 with 2 Axes>"
      ],
      "image/png": "[encoded data removed]"
     },
     "metadata": {},
     "output_type": "display_data"
    }
   ],
   "execution_count": 114
  },
  {
   "metadata": {},
   "cell_type": "markdown",
   "source": [
    "##### Q8: hich customer(s) bring the highest sales and profit to the company?\n",
    "(Pareto analysis (top 20% of customers contributing to ~80% of sales))"
   ],
   "id": "20be958650f85af8"
  },
  {
   "metadata": {
    "ExecuteTime": {
     "end_time": "2025-09-21T12:16:19.022388Z",
     "start_time": "2025-09-21T12:16:19.011102Z"
    }
   },
   "cell_type": "code",
   "source": "sales_by_customer = df.groupby(\"Customer Name\")['Sales'].sum().reset_index().sort_values(\"Sales\", ascending=False)",
   "id": "7596f527db0b2b52",
   "outputs": [],
   "execution_count": 87
  },
  {
   "metadata": {
    "ExecuteTime": {
     "end_time": "2025-09-21T12:23:43.159346Z",
     "start_time": "2025-09-21T12:23:43.145324Z"
    }
   },
   "cell_type": "code",
   "source": "sales_by_customer",
   "id": "4d19ae7d58b15954",
   "outputs": [
    {
     "data": {
      "text/plain": [
       "       Customer Name      Sales\n",
       "686      Sean Miller  25043.050\n",
       "730     Tamara Chand  19052.218\n",
       "622     Raymond Buch  15117.339\n",
       "757     Tom Ashbrook  14595.620\n",
       "6      Adrian Barton  14473.571\n",
       "..               ...        ...\n",
       "656       Roy Skaria     22.328\n",
       "545  Mitch Gastineau     16.739\n",
       "123     Carl Jackson     16.520\n",
       "455     Lela Donovan      5.304\n",
       "737    Thais Sissman      4.833\n",
       "\n",
       "[793 rows x 2 columns]"
      ],
      "text/html": [
       "<div>\n",
       "<style scoped>\n",
       "    .dataframe tbody tr th:only-of-type {\n",
       "        vertical-align: middle;\n",
       "    }\n",
       "\n",
       "    .dataframe tbody tr th {\n",
       "        vertical-align: top;\n",
       "    }\n",
       "\n",
       "    .dataframe thead th {\n",
       "        text-align: right;\n",
       "    }\n",
       "</style>\n",
       "<table border=\"1\" class=\"dataframe\">\n",
       "  <thead>\n",
       "    <tr style=\"text-align: right;\">\n",
       "      <th></th>\n",
       "      <th>Customer Name</th>\n",
       "      <th>Sales</th>\n",
       "    </tr>\n",
       "  </thead>\n",
       "  <tbody>\n",
       "    <tr>\n",
       "      <th>686</th>\n",
       "      <td>Sean Miller</td>\n",
       "      <td>25043.050</td>\n",
       "    </tr>\n",
       "    <tr>\n",
       "      <th>730</th>\n",
       "      <td>Tamara Chand</td>\n",
       "      <td>19052.218</td>\n",
       "    </tr>\n",
       "    <tr>\n",
       "      <th>622</th>\n",
       "      <td>Raymond Buch</td>\n",
       "      <td>15117.339</td>\n",
       "    </tr>\n",
       "    <tr>\n",
       "      <th>757</th>\n",
       "      <td>Tom Ashbrook</td>\n",
       "      <td>14595.620</td>\n",
       "    </tr>\n",
       "    <tr>\n",
       "      <th>6</th>\n",
       "      <td>Adrian Barton</td>\n",
       "      <td>14473.571</td>\n",
       "    </tr>\n",
       "    <tr>\n",
       "      <th>...</th>\n",
       "      <td>...</td>\n",
       "      <td>...</td>\n",
       "    </tr>\n",
       "    <tr>\n",
       "      <th>656</th>\n",
       "      <td>Roy Skaria</td>\n",
       "      <td>22.328</td>\n",
       "    </tr>\n",
       "    <tr>\n",
       "      <th>545</th>\n",
       "      <td>Mitch Gastineau</td>\n",
       "      <td>16.739</td>\n",
       "    </tr>\n",
       "    <tr>\n",
       "      <th>123</th>\n",
       "      <td>Carl Jackson</td>\n",
       "      <td>16.520</td>\n",
       "    </tr>\n",
       "    <tr>\n",
       "      <th>455</th>\n",
       "      <td>Lela Donovan</td>\n",
       "      <td>5.304</td>\n",
       "    </tr>\n",
       "    <tr>\n",
       "      <th>737</th>\n",
       "      <td>Thais Sissman</td>\n",
       "      <td>4.833</td>\n",
       "    </tr>\n",
       "  </tbody>\n",
       "</table>\n",
       "<p>793 rows × 2 columns</p>\n",
       "</div>"
      ]
     },
     "execution_count": 90,
     "metadata": {},
     "output_type": "execute_result"
    }
   ],
   "execution_count": 90
  },
  {
   "metadata": {
    "ExecuteTime": {
     "end_time": "2025-09-21T12:23:56.819421Z",
     "start_time": "2025-09-21T12:23:56.812739Z"
    }
   },
   "cell_type": "code",
   "source": "total_sales = sales_by_customer[\"Sales\"].sum()",
   "id": "40de38ed7a2cfe2b",
   "outputs": [],
   "execution_count": 91
  },
  {
   "metadata": {
    "ExecuteTime": {
     "end_time": "2025-09-21T12:23:57.861750Z",
     "start_time": "2025-09-21T12:23:57.855049Z"
    }
   },
   "cell_type": "code",
   "source": "sales_by_customer[\"Percent\"] = sales_by_customer[\"Sales\"] / total_sales",
   "id": "6baba182dca5c985",
   "outputs": [],
   "execution_count": 92
  },
  {
   "metadata": {
    "ExecuteTime": {
     "end_time": "2025-09-21T12:33:03.201899Z",
     "start_time": "2025-09-21T12:33:03.193006Z"
    }
   },
   "cell_type": "code",
   "source": "sales_by_customer[\"CumPercent\"] = sales_by_customer[\"Percent\"].cumsum()",
   "id": "7492582c4e118534",
   "outputs": [],
   "execution_count": 93
  },
  {
   "metadata": {
    "ExecuteTime": {
     "end_time": "2025-09-21T12:33:11.448835Z",
     "start_time": "2025-09-21T12:33:11.438730Z"
    }
   },
   "cell_type": "code",
   "source": [
    "pareto_customers = sales_by_customer[sales_by_customer[\"CumPercent\"] <= 0.8]\n",
    "print(pareto_customers)"
   ],
   "id": "3251e04e1d5bad60",
   "outputs": [
    {
     "name": "stdout",
     "output_type": "stream",
     "text": [
      "      Customer Name       Sales   Percent  CumPercent\n",
      "686     Sean Miller  25043.0500  0.010902    0.010902\n",
      "730    Tamara Chand  19052.2180  0.008294    0.019195\n",
      "622    Raymond Buch  15117.3390  0.006581    0.025776\n",
      "757    Tom Ashbrook  14595.6200  0.006354    0.032130\n",
      "6     Adrian Barton  14473.5710  0.006301    0.038430\n",
      "..              ...         ...       ...         ...\n",
      "344    Jamie Frazer   2279.5860  0.000992    0.795646\n",
      "288     Fred Harton   2271.2840  0.000989    0.796635\n",
      "176  Craig Carreira   2269.7015  0.000988    0.797623\n",
      "93      Bobby Elias   2261.4380  0.000984    0.798607\n",
      "413    Kalyca Meade   2260.9580  0.000984    0.799591\n",
      "\n",
      "[395 rows x 4 columns]\n"
     ]
    }
   ],
   "execution_count": 94
  },
  {
   "metadata": {
    "ExecuteTime": {
     "end_time": "2025-09-21T12:35:49.433133Z",
     "start_time": "2025-09-21T12:35:49.417317Z"
    }
   },
   "cell_type": "code",
   "source": [
    "profit_by_customer = df.groupby(\"Customer Name\")[\"Profit\"].sum().sort_values(ascending=False).reset_index()\n",
    "total_profit = profit_by_customer[\"Profit\"].sum()\n",
    "profit_by_customer[\"Percent\"] = profit_by_customer[\"Profit\"] / total_profit\n",
    "profit_by_customer[\"CumPercent\"] = profit_by_customer[\"Percent\"].cumsum()\n",
    "pareto_profit_customers = profit_by_customer[profit_by_customer[\"CumPercent\"] <= 0.8]\n",
    "print(pareto_profit_customers)"
   ],
   "id": "37e3c9dcdd22077e",
   "outputs": [
    {
     "name": "stdout",
     "output_type": "stream",
     "text": [
      "         Customer Name     Profit   Percent  CumPercent\n",
      "0         Tamara Chand  8981.3239  0.031360    0.031360\n",
      "1         Raymond Buch  6976.0959  0.024358    0.055718\n",
      "2         Sanjit Chand  5757.4119  0.020103    0.075821\n",
      "3         Hunter Lopez  5622.4292  0.019632    0.095452\n",
      "4        Adrian Barton  5444.8055  0.019011    0.114464\n",
      "..                 ...        ...       ...         ...\n",
      "147          Rick Reed   721.6826  0.002520    0.789589\n",
      "148  Alan Schoenberger   719.7751  0.002513    0.792102\n",
      "149      William Brown   714.3311  0.002494    0.794596\n",
      "150         Fred Chung   714.2926  0.002494    0.797090\n",
      "151       Roland Fjeld   711.6168  0.002485    0.799575\n",
      "\n",
      "[152 rows x 4 columns]\n"
     ]
    }
   ],
   "execution_count": 96
  },
  {
   "metadata": {},
   "cell_type": "markdown",
   "source": [
    "##### Q10: How does order quantity affect profit margin?\n",
    "(Do large-quantity orders always translate into more profit?)"
   ],
   "id": "b41ffdf19057538c"
  },
  {
   "metadata": {
    "ExecuteTime": {
     "end_time": "2025-09-21T12:47:56.923705Z",
     "start_time": "2025-09-21T12:47:56.915256Z"
    }
   },
   "cell_type": "code",
   "source": "df['Profit Margin'] = df['Profit'] / df['Sales']",
   "id": "735165c237bee3c7",
   "outputs": [],
   "execution_count": 97
  },
  {
   "metadata": {
    "ExecuteTime": {
     "end_time": "2025-09-21T12:48:59.499398Z",
     "start_time": "2025-09-21T12:48:59.467036Z"
    }
   },
   "cell_type": "code",
   "source": "df.head()",
   "id": "894589a0d34c1170",
   "outputs": [
    {
     "data": {
      "text/plain": [
       "   Row ID        Order ID Order Date  Ship Date       Ship Mode Customer ID  \\\n",
       "0       1  CA-2013-152156 2013-11-09 2013-11-12    Second Class    CG-12520   \n",
       "1       2  CA-2013-152156 2013-11-09 2013-11-12    Second Class    CG-12520   \n",
       "2       3  CA-2013-138688 2013-06-13 2013-06-17    Second Class    DV-13045   \n",
       "3       4  US-2012-108966 2012-10-11 2012-10-18  Standard Class    SO-20335   \n",
       "4       5  US-2012-108966 2012-10-11 2012-10-18  Standard Class    SO-20335   \n",
       "\n",
       "     Customer Name    Segment        Country             City  ... Discount  \\\n",
       "0      Claire Gute   Consumer  United States        Henderson  ...     0.00   \n",
       "1      Claire Gute   Consumer  United States        Henderson  ...     0.00   \n",
       "2  Darrin Van Huff  Corporate  United States      Los Angeles  ...     0.00   \n",
       "3   Sean O'Donnell   Consumer  United States  Fort Lauderdale  ...     0.45   \n",
       "4   Sean O'Donnell   Consumer  United States  Fort Lauderdale  ...     0.20   \n",
       "\n",
       "     Profit month  year year_month Shipping Days Discount Amount        COGS  \\\n",
       "0   41.9136    11  2013    2013-11        3 days        0.000000  220.046400   \n",
       "1  219.5820    11  2013    2013-11        3 days        0.000000  512.358000   \n",
       "2    6.8714     6  2013    2013-06        4 days        0.000000    7.748600   \n",
       "3 -383.0310    10  2012    2012-10        7 days      430.909875  909.698625   \n",
       "4    2.5164    10  2012    2012-10        7 days        4.473600   15.378000   \n",
       "\n",
       "   selling_price  Profit Margin  \n",
       "0         130.98         0.1600  \n",
       "1         243.98         0.3000  \n",
       "2           7.31         0.4700  \n",
       "3         191.52        -0.4000  \n",
       "4          11.18         0.1125  \n",
       "\n",
       "[5 rows x 29 columns]"
      ],
      "text/html": [
       "<div>\n",
       "<style scoped>\n",
       "    .dataframe tbody tr th:only-of-type {\n",
       "        vertical-align: middle;\n",
       "    }\n",
       "\n",
       "    .dataframe tbody tr th {\n",
       "        vertical-align: top;\n",
       "    }\n",
       "\n",
       "    .dataframe thead th {\n",
       "        text-align: right;\n",
       "    }\n",
       "</style>\n",
       "<table border=\"1\" class=\"dataframe\">\n",
       "  <thead>\n",
       "    <tr style=\"text-align: right;\">\n",
       "      <th></th>\n",
       "      <th>Row ID</th>\n",
       "      <th>Order ID</th>\n",
       "      <th>Order Date</th>\n",
       "      <th>Ship Date</th>\n",
       "      <th>Ship Mode</th>\n",
       "      <th>Customer ID</th>\n",
       "      <th>Customer Name</th>\n",
       "      <th>Segment</th>\n",
       "      <th>Country</th>\n",
       "      <th>City</th>\n",
       "      <th>...</th>\n",
       "      <th>Discount</th>\n",
       "      <th>Profit</th>\n",
       "      <th>month</th>\n",
       "      <th>year</th>\n",
       "      <th>year_month</th>\n",
       "      <th>Shipping Days</th>\n",
       "      <th>Discount Amount</th>\n",
       "      <th>COGS</th>\n",
       "      <th>selling_price</th>\n",
       "      <th>Profit Margin</th>\n",
       "    </tr>\n",
       "  </thead>\n",
       "  <tbody>\n",
       "    <tr>\n",
       "      <th>0</th>\n",
       "      <td>1</td>\n",
       "      <td>CA-2013-152156</td>\n",
       "      <td>2013-11-09</td>\n",
       "      <td>2013-11-12</td>\n",
       "      <td>Second Class</td>\n",
       "      <td>CG-12520</td>\n",
       "      <td>Claire Gute</td>\n",
       "      <td>Consumer</td>\n",
       "      <td>United States</td>\n",
       "      <td>Henderson</td>\n",
       "      <td>...</td>\n",
       "      <td>0.00</td>\n",
       "      <td>41.9136</td>\n",
       "      <td>11</td>\n",
       "      <td>2013</td>\n",
       "      <td>2013-11</td>\n",
       "      <td>3 days</td>\n",
       "      <td>0.000000</td>\n",
       "      <td>220.046400</td>\n",
       "      <td>130.98</td>\n",
       "      <td>0.1600</td>\n",
       "    </tr>\n",
       "    <tr>\n",
       "      <th>1</th>\n",
       "      <td>2</td>\n",
       "      <td>CA-2013-152156</td>\n",
       "      <td>2013-11-09</td>\n",
       "      <td>2013-11-12</td>\n",
       "      <td>Second Class</td>\n",
       "      <td>CG-12520</td>\n",
       "      <td>Claire Gute</td>\n",
       "      <td>Consumer</td>\n",
       "      <td>United States</td>\n",
       "      <td>Henderson</td>\n",
       "      <td>...</td>\n",
       "      <td>0.00</td>\n",
       "      <td>219.5820</td>\n",
       "      <td>11</td>\n",
       "      <td>2013</td>\n",
       "      <td>2013-11</td>\n",
       "      <td>3 days</td>\n",
       "      <td>0.000000</td>\n",
       "      <td>512.358000</td>\n",
       "      <td>243.98</td>\n",
       "      <td>0.3000</td>\n",
       "    </tr>\n",
       "    <tr>\n",
       "      <th>2</th>\n",
       "      <td>3</td>\n",
       "      <td>CA-2013-138688</td>\n",
       "      <td>2013-06-13</td>\n",
       "      <td>2013-06-17</td>\n",
       "      <td>Second Class</td>\n",
       "      <td>DV-13045</td>\n",
       "      <td>Darrin Van Huff</td>\n",
       "      <td>Corporate</td>\n",
       "      <td>United States</td>\n",
       "      <td>Los Angeles</td>\n",
       "      <td>...</td>\n",
       "      <td>0.00</td>\n",
       "      <td>6.8714</td>\n",
       "      <td>6</td>\n",
       "      <td>2013</td>\n",
       "      <td>2013-06</td>\n",
       "      <td>4 days</td>\n",
       "      <td>0.000000</td>\n",
       "      <td>7.748600</td>\n",
       "      <td>7.31</td>\n",
       "      <td>0.4700</td>\n",
       "    </tr>\n",
       "    <tr>\n",
       "      <th>3</th>\n",
       "      <td>4</td>\n",
       "      <td>US-2012-108966</td>\n",
       "      <td>2012-10-11</td>\n",
       "      <td>2012-10-18</td>\n",
       "      <td>Standard Class</td>\n",
       "      <td>SO-20335</td>\n",
       "      <td>Sean O'Donnell</td>\n",
       "      <td>Consumer</td>\n",
       "      <td>United States</td>\n",
       "      <td>Fort Lauderdale</td>\n",
       "      <td>...</td>\n",
       "      <td>0.45</td>\n",
       "      <td>-383.0310</td>\n",
       "      <td>10</td>\n",
       "      <td>2012</td>\n",
       "      <td>2012-10</td>\n",
       "      <td>7 days</td>\n",
       "      <td>430.909875</td>\n",
       "      <td>909.698625</td>\n",
       "      <td>191.52</td>\n",
       "      <td>-0.4000</td>\n",
       "    </tr>\n",
       "    <tr>\n",
       "      <th>4</th>\n",
       "      <td>5</td>\n",
       "      <td>US-2012-108966</td>\n",
       "      <td>2012-10-11</td>\n",
       "      <td>2012-10-18</td>\n",
       "      <td>Standard Class</td>\n",
       "      <td>SO-20335</td>\n",
       "      <td>Sean O'Donnell</td>\n",
       "      <td>Consumer</td>\n",
       "      <td>United States</td>\n",
       "      <td>Fort Lauderdale</td>\n",
       "      <td>...</td>\n",
       "      <td>0.20</td>\n",
       "      <td>2.5164</td>\n",
       "      <td>10</td>\n",
       "      <td>2012</td>\n",
       "      <td>2012-10</td>\n",
       "      <td>7 days</td>\n",
       "      <td>4.473600</td>\n",
       "      <td>15.378000</td>\n",
       "      <td>11.18</td>\n",
       "      <td>0.1125</td>\n",
       "    </tr>\n",
       "  </tbody>\n",
       "</table>\n",
       "<p>5 rows × 29 columns</p>\n",
       "</div>"
      ]
     },
     "execution_count": 100,
     "metadata": {},
     "output_type": "execute_result"
    }
   ],
   "execution_count": 100
  },
  {
   "metadata": {
    "ExecuteTime": {
     "end_time": "2025-09-21T12:50:37.192903Z",
     "start_time": "2025-09-21T12:50:37.035785Z"
    }
   },
   "cell_type": "code",
   "source": [
    "sns.heatmap(df[['Profit Margin','Quantity']].corr(),annot = True)\n",
    "plt.show()"
   ],
   "id": "d84e2cad1fa9ed08",
   "outputs": [
    {
     "data": {
      "text/plain": [
       "<Figure size 640x480 with 2 Axes>"
      ],
      "image/png": "[encoded data removed]"
     },
     "metadata": {},
     "output_type": "display_data"
    }
   ],
   "execution_count": 103
  },
  {
   "metadata": {
    "ExecuteTime": {
     "end_time": "2025-09-21T12:49:22.862339Z",
     "start_time": "2025-09-21T12:49:22.609627Z"
    }
   },
   "cell_type": "code",
   "source": [
    "sns.scatterplot(data = df, x = 'Profit Margin', y= 'Quantity')\n",
    "plt.show()"
   ],
   "id": "ad58964bfbb4104f",
   "outputs": [
    {
     "data": {
      "text/plain": [
       "<Figure size 640x480 with 1 Axes>"
      ],
      "image/png": "[encoded data removed]"
     },
     "metadata": {},
     "output_type": "display_data"
    }
   ],
   "execution_count": 101
  },
  {
   "metadata": {},
   "cell_type": "markdown",
   "source": "##### There is no relation between quantity and profit margin",
   "id": "d6e18910733379f9"
  },
  {
   "metadata": {},
   "cell_type": "markdown",
   "source": [
    "##### Q11: How does discount impact profitability across different categories and sub-categories?\n",
    "(Do some categories suffer more from discounts than others?)"
   ],
   "id": "aba755e63bf5a909"
  },
  {
   "metadata": {
    "ExecuteTime": {
     "end_time": "2025-09-21T13:01:06.698723Z",
     "start_time": "2025-09-21T13:01:06.681274Z"
    }
   },
   "cell_type": "code",
   "source": "df.groupby(\"Category\")[[\"Discount\",\"Profit\"]].corr().reset_index()",
   "id": "fe4999d66c21b10f",
   "outputs": [
    {
     "data": {
      "text/plain": [
       "          Category   level_1  Discount    Profit\n",
       "0        Furniture  Discount  1.000000 -0.483769\n",
       "1        Furniture    Profit -0.483769  1.000000\n",
       "2  Office Supplies  Discount  1.000000 -0.208787\n",
       "3  Office Supplies    Profit -0.208787  1.000000\n",
       "4       Technology  Discount  1.000000 -0.268853\n",
       "5       Technology    Profit -0.268853  1.000000"
      ],
      "text/html": [
       "<div>\n",
       "<style scoped>\n",
       "    .dataframe tbody tr th:only-of-type {\n",
       "        vertical-align: middle;\n",
       "    }\n",
       "\n",
       "    .dataframe tbody tr th {\n",
       "        vertical-align: top;\n",
       "    }\n",
       "\n",
       "    .dataframe thead th {\n",
       "        text-align: right;\n",
       "    }\n",
       "</style>\n",
       "<table border=\"1\" class=\"dataframe\">\n",
       "  <thead>\n",
       "    <tr style=\"text-align: right;\">\n",
       "      <th></th>\n",
       "      <th>Category</th>\n",
       "      <th>level_1</th>\n",
       "      <th>Discount</th>\n",
       "      <th>Profit</th>\n",
       "    </tr>\n",
       "  </thead>\n",
       "  <tbody>\n",
       "    <tr>\n",
       "      <th>0</th>\n",
       "      <td>Furniture</td>\n",
       "      <td>Discount</td>\n",
       "      <td>1.000000</td>\n",
       "      <td>-0.483769</td>\n",
       "    </tr>\n",
       "    <tr>\n",
       "      <th>1</th>\n",
       "      <td>Furniture</td>\n",
       "      <td>Profit</td>\n",
       "      <td>-0.483769</td>\n",
       "      <td>1.000000</td>\n",
       "    </tr>\n",
       "    <tr>\n",
       "      <th>2</th>\n",
       "      <td>Office Supplies</td>\n",
       "      <td>Discount</td>\n",
       "      <td>1.000000</td>\n",
       "      <td>-0.208787</td>\n",
       "    </tr>\n",
       "    <tr>\n",
       "      <th>3</th>\n",
       "      <td>Office Supplies</td>\n",
       "      <td>Profit</td>\n",
       "      <td>-0.208787</td>\n",
       "      <td>1.000000</td>\n",
       "    </tr>\n",
       "    <tr>\n",
       "      <th>4</th>\n",
       "      <td>Technology</td>\n",
       "      <td>Discount</td>\n",
       "      <td>1.000000</td>\n",
       "      <td>-0.268853</td>\n",
       "    </tr>\n",
       "    <tr>\n",
       "      <th>5</th>\n",
       "      <td>Technology</td>\n",
       "      <td>Profit</td>\n",
       "      <td>-0.268853</td>\n",
       "      <td>1.000000</td>\n",
       "    </tr>\n",
       "  </tbody>\n",
       "</table>\n",
       "</div>"
      ]
     },
     "execution_count": 107,
     "metadata": {},
     "output_type": "execute_result"
    }
   ],
   "execution_count": 107
  },
  {
   "metadata": {
    "ExecuteTime": {
     "end_time": "2025-09-21T13:01:45.074119Z",
     "start_time": "2025-09-21T13:01:45.039153Z"
    }
   },
   "cell_type": "code",
   "source": "df.groupby(\"Sub-Category\")[[\"Discount\",\"Profit\"]].corr().reset_index()",
   "id": "534b8c9b92709160",
   "outputs": [
    {
     "data": {
      "text/plain": [
       "   Sub-Category   level_1  Discount    Profit\n",
       "0   Accessories  Discount  1.000000 -0.244192\n",
       "1   Accessories    Profit -0.244192  1.000000\n",
       "2    Appliances  Discount  1.000000 -0.495198\n",
       "3    Appliances    Profit -0.495198  1.000000\n",
       "4           Art  Discount  1.000000 -0.251636\n",
       "5           Art    Profit -0.251636  1.000000\n",
       "6       Binders  Discount  1.000000 -0.238195\n",
       "7       Binders    Profit -0.238195  1.000000\n",
       "8     Bookcases  Discount  1.000000 -0.607067\n",
       "9     Bookcases    Profit -0.607067  1.000000\n",
       "10       Chairs  Discount  1.000000 -0.591815\n",
       "11       Chairs    Profit -0.591815  1.000000\n",
       "12      Copiers  Discount  1.000000 -0.356122\n",
       "13      Copiers    Profit -0.356122  1.000000\n",
       "14    Envelopes  Discount  1.000000 -0.184235\n",
       "15    Envelopes    Profit -0.184235  1.000000\n",
       "16    Fasteners  Discount  1.000000 -0.171133\n",
       "17    Fasteners    Profit -0.171133  1.000000\n",
       "18  Furnishings  Discount  1.000000 -0.471598\n",
       "19  Furnishings    Profit -0.471598  1.000000\n",
       "20       Labels  Discount  1.000000 -0.132661\n",
       "21       Labels    Profit -0.132661  1.000000\n",
       "22     Machines  Discount  1.000000 -0.582508\n",
       "23     Machines    Profit -0.582508  1.000000\n",
       "24        Paper  Discount  1.000000 -0.172494\n",
       "25        Paper    Profit -0.172494  1.000000\n",
       "26       Phones  Discount  1.000000 -0.469341\n",
       "27       Phones    Profit -0.469341  1.000000\n",
       "28      Storage  Discount  1.000000 -0.364029\n",
       "29      Storage    Profit -0.364029  1.000000\n",
       "30     Supplies  Discount  1.000000 -0.253066\n",
       "31     Supplies    Profit -0.253066  1.000000\n",
       "32       Tables  Discount  1.000000 -0.671770\n",
       "33       Tables    Profit -0.671770  1.000000"
      ],
      "text/html": [
       "<div>\n",
       "<style scoped>\n",
       "    .dataframe tbody tr th:only-of-type {\n",
       "        vertical-align: middle;\n",
       "    }\n",
       "\n",
       "    .dataframe tbody tr th {\n",
       "        vertical-align: top;\n",
       "    }\n",
       "\n",
       "    .dataframe thead th {\n",
       "        text-align: right;\n",
       "    }\n",
       "</style>\n",
       "<table border=\"1\" class=\"dataframe\">\n",
       "  <thead>\n",
       "    <tr style=\"text-align: right;\">\n",
       "      <th></th>\n",
       "      <th>Sub-Category</th>\n",
       "      <th>level_1</th>\n",
       "      <th>Discount</th>\n",
       "      <th>Profit</th>\n",
       "    </tr>\n",
       "  </thead>\n",
       "  <tbody>\n",
       "    <tr>\n",
       "      <th>0</th>\n",
       "      <td>Accessories</td>\n",
       "      <td>Discount</td>\n",
       "      <td>1.000000</td>\n",
       "      <td>-0.244192</td>\n",
       "    </tr>\n",
       "    <tr>\n",
       "      <th>1</th>\n",
       "      <td>Accessories</td>\n",
       "      <td>Profit</td>\n",
       "      <td>-0.244192</td>\n",
       "      <td>1.000000</td>\n",
       "    </tr>\n",
       "    <tr>\n",
       "      <th>2</th>\n",
       "      <td>Appliances</td>\n",
       "      <td>Discount</td>\n",
       "      <td>1.000000</td>\n",
       "      <td>-0.495198</td>\n",
       "    </tr>\n",
       "    <tr>\n",
       "      <th>3</th>\n",
       "      <td>Appliances</td>\n",
       "      <td>Profit</td>\n",
       "      <td>-0.495198</td>\n",
       "      <td>1.000000</td>\n",
       "    </tr>\n",
       "    <tr>\n",
       "      <th>4</th>\n",
       "      <td>Art</td>\n",
       "      <td>Discount</td>\n",
       "      <td>1.000000</td>\n",
       "      <td>-0.251636</td>\n",
       "    </tr>\n",
       "    <tr>\n",
       "      <th>5</th>\n",
       "      <td>Art</td>\n",
       "      <td>Profit</td>\n",
       "      <td>-0.251636</td>\n",
       "      <td>1.000000</td>\n",
       "    </tr>\n",
       "    <tr>\n",
       "      <th>6</th>\n",
       "      <td>Binders</td>\n",
       "      <td>Discount</td>\n",
       "      <td>1.000000</td>\n",
       "      <td>-0.238195</td>\n",
       "    </tr>\n",
       "    <tr>\n",
       "      <th>7</th>\n",
       "      <td>Binders</td>\n",
       "      <td>Profit</td>\n",
       "      <td>-0.238195</td>\n",
       "      <td>1.000000</td>\n",
       "    </tr>\n",
       "    <tr>\n",
       "      <th>8</th>\n",
       "      <td>Bookcases</td>\n",
       "      <td>Discount</td>\n",
       "      <td>1.000000</td>\n",
       "      <td>-0.607067</td>\n",
       "    </tr>\n",
       "    <tr>\n",
       "      <th>9</th>\n",
       "      <td>Bookcases</td>\n",
       "      <td>Profit</td>\n",
       "      <td>-0.607067</td>\n",
       "      <td>1.000000</td>\n",
       "    </tr>\n",
       "    <tr>\n",
       "      <th>10</th>\n",
       "      <td>Chairs</td>\n",
       "      <td>Discount</td>\n",
       "      <td>1.000000</td>\n",
       "      <td>-0.591815</td>\n",
       "    </tr>\n",
       "    <tr>\n",
       "      <th>11</th>\n",
       "      <td>Chairs</td>\n",
       "      <td>Profit</td>\n",
       "      <td>-0.591815</td>\n",
       "      <td>1.000000</td>\n",
       "    </tr>\n",
       "    <tr>\n",
       "      <th>12</th>\n",
       "      <td>Copiers</td>\n",
       "      <td>Discount</td>\n",
       "      <td>1.000000</td>\n",
       "      <td>-0.356122</td>\n",
       "    </tr>\n",
       "    <tr>\n",
       "      <th>13</th>\n",
       "      <td>Copiers</td>\n",
       "      <td>Profit</td>\n",
       "      <td>-0.356122</td>\n",
       "      <td>1.000000</td>\n",
       "    </tr>\n",
       "    <tr>\n",
       "      <th>14</th>\n",
       "      <td>Envelopes</td>\n",
       "      <td>Discount</td>\n",
       "      <td>1.000000</td>\n",
       "      <td>-0.184235</td>\n",
       "    </tr>\n",
       "    <tr>\n",
       "      <th>15</th>\n",
       "      <td>Envelopes</td>\n",
       "      <td>Profit</td>\n",
       "      <td>-0.184235</td>\n",
       "      <td>1.000000</td>\n",
       "    </tr>\n",
       "    <tr>\n",
       "      <th>16</th>\n",
       "      <td>Fasteners</td>\n",
       "      <td>Discount</td>\n",
       "      <td>1.000000</td>\n",
       "      <td>-0.171133</td>\n",
       "    </tr>\n",
       "    <tr>\n",
       "      <th>17</th>\n",
       "      <td>Fasteners</td>\n",
       "      <td>Profit</td>\n",
       "      <td>-0.171133</td>\n",
       "      <td>1.000000</td>\n",
       "    </tr>\n",
       "    <tr>\n",
       "      <th>18</th>\n",
       "      <td>Furnishings</td>\n",
       "      <td>Discount</td>\n",
       "      <td>1.000000</td>\n",
       "      <td>-0.471598</td>\n",
       "    </tr>\n",
       "    <tr>\n",
       "      <th>19</th>\n",
       "      <td>Furnishings</td>\n",
       "      <td>Profit</td>\n",
       "      <td>-0.471598</td>\n",
       "      <td>1.000000</td>\n",
       "    </tr>\n",
       "    <tr>\n",
       "      <th>20</th>\n",
       "      <td>Labels</td>\n",
       "      <td>Discount</td>\n",
       "      <td>1.000000</td>\n",
       "      <td>-0.132661</td>\n",
       "    </tr>\n",
       "    <tr>\n",
       "      <th>21</th>\n",
       "      <td>Labels</td>\n",
       "      <td>Profit</td>\n",
       "      <td>-0.132661</td>\n",
       "      <td>1.000000</td>\n",
       "    </tr>\n",
       "    <tr>\n",
       "      <th>22</th>\n",
       "      <td>Machines</td>\n",
       "      <td>Discount</td>\n",
       "      <td>1.000000</td>\n",
       "      <td>-0.582508</td>\n",
       "    </tr>\n",
       "    <tr>\n",
       "      <th>23</th>\n",
       "      <td>Machines</td>\n",
       "      <td>Profit</td>\n",
       "      <td>-0.582508</td>\n",
       "      <td>1.000000</td>\n",
       "    </tr>\n",
       "    <tr>\n",
       "      <th>24</th>\n",
       "      <td>Paper</td>\n",
       "      <td>Discount</td>\n",
       "      <td>1.000000</td>\n",
       "      <td>-0.172494</td>\n",
       "    </tr>\n",
       "    <tr>\n",
       "      <th>25</th>\n",
       "      <td>Paper</td>\n",
       "      <td>Profit</td>\n",
       "      <td>-0.172494</td>\n",
       "      <td>1.000000</td>\n",
       "    </tr>\n",
       "    <tr>\n",
       "      <th>26</th>\n",
       "      <td>Phones</td>\n",
       "      <td>Discount</td>\n",
       "      <td>1.000000</td>\n",
       "      <td>-0.469341</td>\n",
       "    </tr>\n",
       "    <tr>\n",
       "      <th>27</th>\n",
       "      <td>Phones</td>\n",
       "      <td>Profit</td>\n",
       "      <td>-0.469341</td>\n",
       "      <td>1.000000</td>\n",
       "    </tr>\n",
       "    <tr>\n",
       "      <th>28</th>\n",
       "      <td>Storage</td>\n",
       "      <td>Discount</td>\n",
       "      <td>1.000000</td>\n",
       "      <td>-0.364029</td>\n",
       "    </tr>\n",
       "    <tr>\n",
       "      <th>29</th>\n",
       "      <td>Storage</td>\n",
       "      <td>Profit</td>\n",
       "      <td>-0.364029</td>\n",
       "      <td>1.000000</td>\n",
       "    </tr>\n",
       "    <tr>\n",
       "      <th>30</th>\n",
       "      <td>Supplies</td>\n",
       "      <td>Discount</td>\n",
       "      <td>1.000000</td>\n",
       "      <td>-0.253066</td>\n",
       "    </tr>\n",
       "    <tr>\n",
       "      <th>31</th>\n",
       "      <td>Supplies</td>\n",
       "      <td>Profit</td>\n",
       "      <td>-0.253066</td>\n",
       "      <td>1.000000</td>\n",
       "    </tr>\n",
       "    <tr>\n",
       "      <th>32</th>\n",
       "      <td>Tables</td>\n",
       "      <td>Discount</td>\n",
       "      <td>1.000000</td>\n",
       "      <td>-0.671770</td>\n",
       "    </tr>\n",
       "    <tr>\n",
       "      <th>33</th>\n",
       "      <td>Tables</td>\n",
       "      <td>Profit</td>\n",
       "      <td>-0.671770</td>\n",
       "      <td>1.000000</td>\n",
       "    </tr>\n",
       "  </tbody>\n",
       "</table>\n",
       "</div>"
      ]
     },
     "execution_count": 108,
     "metadata": {},
     "output_type": "execute_result"
    }
   ],
   "execution_count": 108
  },
  {
   "metadata": {},
   "cell_type": "markdown",
   "source": "##### as discount increases Furniture category is the largest category that their profits are decreasing (with correlation -0.49)",
   "id": "db56ceb6c303e83e"
  },
  {
   "metadata": {},
   "cell_type": "markdown",
   "source": "##### as discount increases Tables sub-category is the largest sub-category that their profits are decreasing (with correlation -0.67)",
   "id": "30c674061e37a168"
  },
  {
   "metadata": {},
   "cell_type": "markdown",
   "source": "##### from what we see discount affects all categories and sub-categories in a negative way",
   "id": "db553b4e42f9a902"
  }
 ],
 "metadata": {
  "kernelspec": {
   "display_name": "Python 3",
   "language": "python",
   "name": "python3"
  },
  "language_info": {
   "codemirror_mode": {
    "name": "ipython",
    "version": 2
   },
   "file_extension": ".py",
   "mimetype": "text/x-python",
   "name": "python",
   "nbconvert_exporter": "python",
   "pygments_lexer": "ipython2",
   "version": "2.7.6"
  }
 },
 "nbformat": 4,
 "nbformat_minor": 5
}
